{
 "cells": [
  {
   "cell_type": "markdown",
   "id": "df8d8fc1-809c-495e-969b-9a7897d9c01d",
   "metadata": {},
   "source": [
    "### 同步数据集中的值"
   ]
  },
  {
   "cell_type": "code",
   "execution_count": 31,
   "id": "e1d8e8b6-b50d-4784-8c96-6fabcf9001ae",
   "metadata": {},
   "outputs": [],
   "source": [
    "import os,json,sys,logging\n",
    "import pandas as pd\n",
    "from numpy import nan\n",
    "import re\n",
    "from tqdm import tqdm\n",
    "sys.path.append(\"../share\")\n",
    "sys.path.append(\"../common\")\n",
    "sys.path.append(\"../\")\n",
    "from Config import g_data_root"
   ]
  },
  {
   "cell_type": "code",
   "execution_count": 32,
   "id": "d5d88fa2-59ee-4fd9-a120-bf011c43ab2a",
   "metadata": {},
   "outputs": [],
   "source": [
    "df_raw_values = pd.read_csv(\"../%s/features/raw_value.csv\"%g_data_root,index_col=0).reset_index(drop=True)\n",
    "df_features = pd.read_excel(\"../%s/features/features.xlsx\"%g_data_root).reset_index(drop=True)"
   ]
  },
  {
   "cell_type": "code",
   "execution_count": 38,
   "id": "ef3842ca-dc68-46e1-9471-f4c106a66306",
   "metadata": {},
   "outputs": [
    {
     "name": "stderr",
     "output_type": "stream",
     "text": [
      "100%|████████████████████████████████████████████████████████████████████████████████████████████████████████████████████| 628/628 [00:05<00:00, 115.51it/s]\n"
     ]
    }
   ],
   "source": [
    "all_data = []\n",
    "for item in tqdm(json.loads(df_features.to_json(orient='records'))):\n",
    "    if flag : break\n",
    "    protocol = item['protocol']\n",
    "    feature = item['feature']\n",
    "    mask = (df_raw_values['feature']==feature)\n",
    "    df_tmp = df_raw_values[mask]\n",
    "    if df_tmp.shape[0] <= 0 : \n",
    "        continue\n",
    "    data = []\n",
    "    for tmp in df_tmp['value'].tolist():\n",
    "        try:        \n",
    "            tmp=json.dumps(eval(tmp),allow_nan=True)\n",
    "            values = json.loads(tmp)\n",
    "        except:\n",
    "            logging.exception(tmp)\n",
    "            continue\n",
    "        for v in values:\n",
    "            if not v in data:\n",
    "                data.append(v)\n",
    "    count = len(data)\n",
    "    item['count'] = count\n",
    "    item['values'] = data\n",
    "    all_data.append(item)\n",
    "pd.DataFrame(all_data).to_excel(\"../%s/features/features.xlsx\"%g_data_root)"
   ]
  },
  {
   "cell_type": "code",
   "execution_count": null,
   "id": "748d9a9c-6065-46c3-bb59-3136d88a5d53",
   "metadata": {},
   "outputs": [],
   "source": []
  }
 ],
 "metadata": {
  "kernelspec": {
   "display_name": "Python 3 (ipykernel)",
   "language": "python",
   "name": "python3"
  },
  "language_info": {
   "codemirror_mode": {
    "name": "ipython",
    "version": 3
   },
   "file_extension": ".py",
   "mimetype": "text/x-python",
   "name": "python",
   "nbconvert_exporter": "python",
   "pygments_lexer": "ipython3",
   "version": "3.8.19"
  }
 },
 "nbformat": 4,
 "nbformat_minor": 5
}
