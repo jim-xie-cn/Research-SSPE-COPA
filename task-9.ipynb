{
 "cells": [
  {
   "cell_type": "markdown",
   "id": "7d58acb9",
   "metadata": {},
   "source": [
    "# 生成token和训练ML模型"
   ]
  },
  {
   "cell_type": "code",
   "execution_count": 1,
   "id": "518883eb",
   "metadata": {},
   "outputs": [
    {
     "name": "stderr",
     "output_type": "stream",
     "text": [
      "python(26263) MallocStackLogging: can't turn off malloc stack logging because it was not enabled.\n",
      "python(26264) MallocStackLogging: can't turn off malloc stack logging because it was not enabled.\n"
     ]
    }
   ],
   "source": [
    "import os,json,sys,logging\n",
    "sys.path.append(\"./share\")\n",
    "sys.path.append(\"./common\")\n",
    "import pandas as pd\n",
    "import json\n",
    "from tqdm.notebook import tqdm\n",
    "from IoTCommon import CIoTCommon\n",
    "from IoTTotalFeature import CIoTTotalFeature\n",
    "from IoTSample import CIoTSample\n",
    "from SHSample import CSHSample\n",
    "from SHDataProcess import CSHDataProcess\n",
    "from SHFeatureSelect import CSHFeature\n",
    "from IoTNoise import CIoTNoise\n",
    "from Config import g_data_root,get_attack_score\n",
    "from SHDataEDA import CSHDataDistribution,CSHDataTest\n",
    "from SHModelClassify import CSHModelClassify\n",
    "from SHEvaluation import CSHROC\n",
    "from IoTToken import CIoTToken,CIoTCommonSample\n",
    "import warnings\n",
    "import numpy as np\n",
    "import matplotlib.pyplot as plt\n",
    "from datetime import datetime\n",
    "warnings.simplefilter(\"ignore\")\n",
    "g_sample_root = \"%ssample\"%g_data_root\n",
    "g_text_root = \"%stoken\"%g_data_root\n",
    "g_ml_root = \"%sml_features\"%g_data_root"
   ]
  },
  {
   "cell_type": "code",
   "execution_count": 2,
   "id": "0b768d90",
   "metadata": {},
   "outputs": [],
   "source": [
    "ioTSample = CIoTSample()"
   ]
  },
  {
   "cell_type": "markdown",
   "id": "175e5ebb-1131-4d0a-8a4b-6843184840c4",
   "metadata": {},
   "source": [
    "# 生成token样本"
   ]
  },
  {
   "cell_type": "code",
   "execution_count": 3,
   "id": "64b778a4-f109-4114-8da8-d834500b4328",
   "metadata": {},
   "outputs": [],
   "source": [
    "def create_sample_text(ioTSample,attack,num_samples = 0,window_size=30 ):\n",
    "    group = 0\n",
    "    df_index = pd.DataFrame()\n",
    "    sample_list,score_list = CIoTToken.get_sample(ioTSample,attack,num_samples=num_samples,window_size=window_size)\n",
    "    for i in tqdm(range(len(sample_list)),desc=\"create text\"):\n",
    "        df_sample = sample_list[i]\n",
    "        score = score_list[i]\n",
    "        labels = df_sample['Label'].tolist()\n",
    "        df_t = df_sample[['segment','id','file','Label']]\n",
    "        to_drop_columns = []\n",
    "        to_drop_columns.append('Label')\n",
    "        to_drop_columns.append('frame.time_utc')\n",
    "        to_drop_columns.append('eth.dst')\n",
    "        to_drop_columns.append('eth.src')\n",
    "        to_drop_columns.append('ip.src_host')\n",
    "        to_drop_columns.append('ip.dst_host')\n",
    "        to_drop_columns.append('ip.src')\n",
    "        to_drop_columns.append('ip.dst')\n",
    "        to_drop_columns.append('frame.time_delta')\n",
    "        #to_drop_columns.append('tcp.time_delta')\n",
    "        #to_drop_columns.append('udp.time_delta')\n",
    "\n",
    "        df_sample = df_sample.drop(to_drop_columns, axis=1,errors='ignore')\n",
    "        df_sample = df_sample.dropna(how='all')\n",
    "        df_sample = df_sample.dropna(axis=1, how='all')\n",
    "        \n",
    "        if df_sample.shape[1] < 10:\n",
    "            continue\n",
    "        \n",
    "        df_sample = df_sample.drop(['segment','id','file'], axis=1,errors='ignore')\n",
    "        df_sample = df_sample.reset_index(drop=True)\n",
    "        \n",
    "        df_noised = CIoTNoise.add_df_noise(df_sample,x_columns=df_sample.keys().tolist(),y_columns=['Label'],ratio=0.1)\n",
    "\n",
    "        text = CIoTCommonSample.get_sample_text(df_sample)\n",
    "        noised = CIoTCommonSample.get_sample_text(df_noised)\n",
    "\n",
    "        path = \"%s/%s\"%(g_text_root,attack)\n",
    "        os.makedirs(\"%s/ml/attack\"%(path), exist_ok=True)\n",
    "        os.makedirs(\"%s/ml/noised\"%(path), exist_ok=True)\n",
    "        os.makedirs(\"%s/llm/attack\"%(path), exist_ok=True)\n",
    "        os.makedirs(\"%s/llm/noised\"%(path), exist_ok=True)\n",
    "\n",
    "        ml_token_file = \"%s/ml/attack/G%d-%f.csv\"%(path,group,score)\n",
    "        ml_noised_file = \"%s/ml/noised/G%d-%f.csv\"%(path,group,score)\n",
    "        llm_token_file = \"%s/llm/attack/G%d-%f.txt\"%(path,group,score)\n",
    "        llm_noised_file = \"%s/llm/noised/G%d-%f.txt\"%(path,group,score)\n",
    "        df_t['attack'] = attack\n",
    "        df_t['sample_file'] = df_t['file']\n",
    "        df_t['llm_token_file'] = llm_token_file\n",
    "        df_t['llm_noised_file'] = llm_noised_file\n",
    "        df_t['ml_token_file'] = ml_token_file\n",
    "        df_t['ml_noised_file'] = ml_noised_file\n",
    "        df_t['score'] = score\n",
    "        df_t['group'] = group\n",
    "        df_t['Label'] = json.dumps(labels)\n",
    "        df_t['id'] = df_t['id'].astype(int)\n",
    "        df_index = pd.concat([df_index,df_t],ignore_index=True)\n",
    "        \n",
    "        df_sample.to_csv(ml_token_file,index=False)\n",
    "        df_noised.to_csv(ml_noised_file,index=False)\n",
    "        \n",
    "        with open(llm_token_file,\"w\") as fp:\n",
    "            fp.write(text)\n",
    "        with open(llm_noised_file,\"w\") as fp:\n",
    "            fp.write(noised)\n",
    "            \n",
    "        group = group + 1\n",
    "        \n",
    "    del df_t['file']\n",
    "    df_index = df_index.reset_index(drop = True)\n",
    "    df_index.to_csv(\"%s/%s/index.csv\"%(g_text_root,attack))\n",
    "    display(df_index['id'].nunique(),df_index.shape[0])"
   ]
  },
  {
   "cell_type": "code",
   "execution_count": null,
   "id": "cfc39f80-74f6-4b49-aafa-4237f656a63e",
   "metadata": {},
   "outputs": [
    {
     "name": "stderr",
     "output_type": "stream",
     "text": [
      "python(26265) MallocStackLogging: can't turn off malloc stack logging because it was not enabled.\n"
     ]
    },
    {
     "data": {
      "application/vnd.jupyter.widget-view+json": {
       "model_id": "f2eb937fcb684aec9494fe14078507dd",
       "version_major": 2,
       "version_minor": 0
      },
      "text/plain": [
       "Total:   0%|          | 0/14 [00:00<?, ?it/s]"
      ]
     },
     "metadata": {},
     "output_type": "display_data"
    },
    {
     "data": {
      "application/vnd.jupyter.widget-view+json": {
       "model_id": "44851e5d46554952ad65942d54e80595",
       "version_major": 2,
       "version_minor": 0
      },
      "text/plain": [
       "Port Scanning attack:   0%|          | 0/3 [00:00<?, ?it/s]"
      ]
     },
     "metadata": {},
     "output_type": "display_data"
    },
    {
     "data": {
      "application/vnd.jupyter.widget-view+json": {
       "model_id": "09b9f30135764940a2a33c08b40c5fef",
       "version_major": 2,
       "version_minor": 0
      },
      "text/plain": [
       "create text:   0%|          | 0/22424 [00:00<?, ?it/s]"
      ]
     },
     "metadata": {},
     "output_type": "display_data"
    },
    {
     "data": {
      "text/plain": [
       "9955"
      ]
     },
     "metadata": {},
     "output_type": "display_data"
    },
    {
     "data": {
      "text/plain": [
       "648720"
      ]
     },
     "metadata": {},
     "output_type": "display_data"
    },
    {
     "data": {
      "application/vnd.jupyter.widget-view+json": {
       "model_id": "ab57a6774e2b4ca7af881a708cf4aeae",
       "version_major": 2,
       "version_minor": 0
      },
      "text/plain": [
       "Vulnerability scanner attack:   0%|          | 0/26 [00:00<?, ?it/s]"
      ]
     },
     "metadata": {},
     "output_type": "display_data"
    },
    {
     "data": {
      "application/vnd.jupyter.widget-view+json": {
       "model_id": "c6cea2f649e34fbeb935483f825caa35",
       "version_major": 2,
       "version_minor": 0
      },
      "text/plain": [
       "create text:   0%|          | 0/157561 [00:00<?, ?it/s]"
      ]
     },
     "metadata": {},
     "output_type": "display_data"
    },
    {
     "data": {
      "text/plain": [
       "6249"
      ]
     },
     "metadata": {},
     "output_type": "display_data"
    },
    {
     "data": {
      "text/plain": [
       "609300"
      ]
     },
     "metadata": {},
     "output_type": "display_data"
    },
    {
     "data": {
      "application/vnd.jupyter.widget-view+json": {
       "model_id": "870449b49a5843ffb5805841e501c21b",
       "version_major": 2,
       "version_minor": 0
      },
      "text/plain": [
       "Password attacks:   0%|          | 0/103 [00:00<?, ?it/s]"
      ]
     },
     "metadata": {},
     "output_type": "display_data"
    },
    {
     "data": {
      "application/vnd.jupyter.widget-view+json": {
       "model_id": "483dded7db624dd4b675e37417ec6668",
       "version_major": 2,
       "version_minor": 0
      },
      "text/plain": [
       "create text:   0%|          | 0/1002879 [00:00<?, ?it/s]"
      ]
     },
     "metadata": {},
     "output_type": "display_data"
    }
   ],
   "source": [
    "for attack in tqdm(ioTSample.get_attack_type(),desc=\"Total\"):\n",
    "    create_sample_text(ioTSample,attack,10000)"
   ]
  },
  {
   "cell_type": "markdown",
   "id": "b86c1250-de0e-4360-b68c-5be0b21461c1",
   "metadata": {
    "jp-MarkdownHeadingCollapsed": true
   },
   "source": [
    "# 训练模型"
   ]
  },
  {
   "cell_type": "code",
   "execution_count": 4,
   "id": "0978ef07-0f3e-4edf-b77f-d4955b88e88e",
   "metadata": {},
   "outputs": [],
   "source": [
    "ioTFeature = CIoTTotalFeature()\n",
    "all_data = []\n",
    "g_feature_type = {}\n",
    "for protocol in ioTFeature.get_protocols():\n",
    "    for feature in ioTFeature.get_features(protocol):\n",
    "        type = ioTSample.get_type(feature)\n",
    "        all_data.append({\"feature\":feature,\"type\":type})\n",
    "        g_feature_type[feature] = type\n",
    "df_feature_type = pd.DataFrame(all_data)"
   ]
  },
  {
   "cell_type": "code",
   "execution_count": 5,
   "id": "07678b72-860c-4d87-b0d5-455e92383ff2",
   "metadata": {},
   "outputs": [],
   "source": [
    "def create_sample(ioTSample,attack,num_samples = 5000, window_size=30 ):\n",
    "    sample_list,score_list = CIoTToken.get_sample(ioTSample,attack,num_samples=num_samples,window_size=window_size)\n",
    "    df_data = pd.DataFrame()\n",
    "    all_data = []\n",
    "    for i in tqdm(range(len(sample_list)),desc=\"Create sample\"):\n",
    "        df_sample = sample_list[i]\n",
    "        score = score_list[i]\n",
    "        df_sample = df_sample.drop(['segment','id','file'], axis=1,errors='ignore')\n",
    "        df_sample = df_sample.dropna(how='all')\n",
    "        df_sample = df_sample.dropna(axis=1, how='all')\n",
    "        if df_sample.shape[1] < 10:\n",
    "            continue\n",
    "        df_sample['frame.time_utc']=df_sample['frame.time_utc'].fillna(method='ffill')\n",
    "        df_sample['frame.time_utc']=pd.to_datetime(df_sample['frame.time_utc'],format='%Y-%m-%d %H:%M:%S.%f')\n",
    "        df_sample['frame.time_utc']=df_sample['frame.time_utc'].fillna(method='ffill')\n",
    "        df_sample['frame.time_utc']=df_sample['frame.time_utc'].apply(lambda x: x.timestamp() if pd.notnull(x) else None)\n",
    "\n",
    "        df_sample = ioTSample.format(df_sample)\n",
    "        for key,type in zip(df_sample.dtypes.index,df_sample.dtypes):\n",
    "            if type in ['object','datetime64[ns]']:\n",
    "                del df_sample[key]\n",
    "        \n",
    "        df_sample, scale_columns = CSHDataProcess.get_scale(df_sample,y_column='Label')\n",
    "        df_sample['score'] = score\n",
    "        df_sample['group'] = i\n",
    "        all_data.extend(json.loads(df_sample.to_json(orient='records')))\n",
    "        #if len(all_data) > 100:\n",
    "        #    break\n",
    "        #df_data = pd.concat([df_data, df_sample], ignore_index=True)\n",
    "                        \n",
    "    df_data = pd.DataFrame(all_data)\n",
    "    df_data = df_data.reset_index(drop=True)\n",
    "    \n",
    "    all_data = []\n",
    "    for item,df_tmp in tqdm(df_data.groupby(['group','score']),desc=\"flatten sample\"):\n",
    "        group = item[0]\n",
    "        score = item[1]\n",
    "        labels = df_tmp['Label'].tolist()\n",
    "        del df_tmp['group']\n",
    "        del df_tmp['score']\n",
    "        del df_tmp['Label']\n",
    "        df_one_row = pd.DataFrame([df_tmp.values.flatten()], columns=[f\"{col}_{i}\" for i in range(len(df_tmp)) for col in df_tmp.columns])\n",
    "        df_one_row['score'] = score\n",
    "        df_one_row['Label'] = json.dumps(labels)\n",
    "        all_data.extend(json.loads(df_one_row.to_json(orient='records')))\n",
    "        #df_result = pd.concat([df_result, df_one_row], ignore_index=True)\n",
    "\n",
    "    df_result = pd.DataFrame(all_data)\n",
    "    df_result = df_result.reset_index(drop=True)\n",
    "    df_result = df_result.fillna(0)\n",
    "    return df_result"
   ]
  },
  {
   "cell_type": "code",
   "execution_count": null,
   "id": "ca0edbef-1e3b-43c0-b2d3-e14596df3a88",
   "metadata": {},
   "outputs": [
    {
     "data": {
      "application/vnd.jupyter.widget-view+json": {
       "model_id": "af527c2a01914a67b147571928c0ffbe",
       "version_major": 2,
       "version_minor": 0
      },
      "text/plain": [
       "flatten sample:   0%|          | 0/157532 [00:00<?, ?it/s]"
      ]
     },
     "metadata": {},
     "output_type": "display_data"
    }
   ],
   "source": [
    "flag = False\n",
    "for attack in tqdm(ioTSample.get_attack_type(),desc=\"Total\"):\n",
    "    #if attack == 'Vulnerability scanner attack':\n",
    "    #    flag = True\n",
    "    #if not flag:\n",
    "    #    continue\n",
    "    df_data = create_sample(ioTSample,attack,num_samples=20000)\n",
    "    file_name = \"%s/%s.csv\"%(g_ml_root,attack)\n",
    "    os.makedirs(g_ml_root, exist_ok=True)\n",
    "    df_data.to_csv(file_name,index=False)"
   ]
  },
  {
   "cell_type": "markdown",
   "id": "5e32a423-d622-4135-ac65-5a45cc134145",
   "metadata": {
    "jp-MarkdownHeadingCollapsed": true
   },
   "source": [
    "# 查看计算的分值与label的关系"
   ]
  },
  {
   "cell_type": "code",
   "execution_count": null,
   "id": "5f8d756f-d8b4-465f-82e1-f94bd0c0deef",
   "metadata": {},
   "outputs": [],
   "source": [
    "df = pd.read_csv(\"%s/Port Scanning attack.csv\"%g_ml_root,low_memory=False)\n",
    "df_data = df[['score','Label']]\n",
    "all_data = []\n",
    "for i,row in df_data.iterrows():\n",
    "    tmp = {}\n",
    "    tmp['score'] = row['score']\n",
    "    labels = json.loads(row['Label'])\n",
    "    tmp['sum'] = 0\n",
    "    for i in range(len(labels)):\n",
    "        tmp[\"L_%d\"%i] = labels[i]\n",
    "        tmp['sum'] = tmp['sum'] + labels[i]\n",
    "    all_data.append(tmp)\n",
    "df_data = pd.DataFrame(all_data)"
   ]
  },
  {
   "cell_type": "code",
   "execution_count": null,
   "id": "569ee5bf-886c-4d0c-8fae-05a709747bff",
   "metadata": {},
   "outputs": [],
   "source": [
    "df_tmp = df_data[['score','sum']]\n",
    "df_tmp.hist(bins=100)\n",
    "df_tmp['score'] = (df_tmp['score'] - df_tmp['score'].mean())/(df_tmp['score'].max() - df_tmp['score'].min())\n",
    "df_tmp['sum'] = (df_tmp['sum'] - df_tmp['sum'].mean())/(df_tmp['sum'].max() - df_tmp['score'].min())\n",
    "df_tmp.tail(1000).reset_index(drop=True).plot()"
   ]
  },
  {
   "cell_type": "code",
   "execution_count": null,
   "id": "584b6f92-cf2a-4cb7-ba21-82378d2de193",
   "metadata": {},
   "outputs": [],
   "source": []
  }
 ],
 "metadata": {
  "kernelspec": {
   "display_name": "Python 3 (ipykernel)",
   "language": "python",
   "name": "python3"
  },
  "language_info": {
   "codemirror_mode": {
    "name": "ipython",
    "version": 3
   },
   "file_extension": ".py",
   "mimetype": "text/x-python",
   "name": "python",
   "nbconvert_exporter": "python",
   "pygments_lexer": "ipython3",
   "version": "3.9.18"
  }
 },
 "nbformat": 4,
 "nbformat_minor": 5
}
