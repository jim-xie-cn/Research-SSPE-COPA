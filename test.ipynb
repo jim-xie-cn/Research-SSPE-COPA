{
 "cells": [
  {
   "cell_type": "code",
   "execution_count": 5,
   "id": "635bf809-0ff7-45ed-bfb1-9aabc9afd9ec",
   "metadata": {},
   "outputs": [],
   "source": [
    "import os,json,sys,logging\n",
    "sys.path.append(\"./share\")\n",
    "sys.path.append(\"./common\")\n",
    "import pandas as pd\n",
    "import json\n",
    "from tqdm import tqdm\n",
    "from IoTCommon import CIoTCommon\n",
    "from IoTTotalFeature import CIoTTotalFeature\n",
    "from IoTSample import CIoTSample\n",
    "from SHSample import CSHSample\n",
    "from SHDataProcess import CSHDataProcess\n",
    "from SHFeatureSelect import CSHFeature\n",
    "from Config import g_data_root\n",
    "from SHDataEDA import CSHDataDistribution,CSHDataTest\n",
    "from SHModelClassify import CSHModelClassify\n",
    "from SHEvaluation import CSHROC\n",
    "import warnings\n",
    "import h2o\n",
    "warnings.simplefilter(\"ignore\")\n",
    "g_sample_root = \"%ssample\"%g_data_root\n",
    "h2o.init(nthreads = -1, verbose=False)"
   ]
  },
  {
   "cell_type": "code",
   "execution_count": 6,
   "id": "b4a32e10-c842-4cde-8743-61157e98db21",
   "metadata": {},
   "outputs": [],
   "source": [
    "class CIoTModel:\n",
    "        \n",
    "    def __init__(self,attack,protocol):\n",
    "        self.m_attack = attack\n",
    "        self.m_protocol = protocol\n",
    "        self.m_ioTSample = CIoTSample()\n",
    "        self.m_col_x = []\n",
    "        self.m_col_y = 'Label'\n",
    "        self.m_train = pd.DataFrame()\n",
    "        self.m_test = pd.DataFrame()\n",
    "        self.m_model = CSHModelClassify()\n",
    "        \n",
    "    def get_raw_sample(self,attack,protocol,maxCount = 20000):\n",
    "        df_attack = self.m_ioTSample.get_attack_sample(attack,protocol)\n",
    "        if maxCount < df_attack.shape[0]: df_attack = df_attack.sample(maxCount)\n",
    "        attack_count = df_attack[df_attack['Label'] !=0].shape[0]\n",
    "        normal_count = int(attack_count/len(self.m_ioTSample.get_sensor_type()))\n",
    "        df_normal = pd.DataFrame()\n",
    "        for sensor in self.m_ioTSample.get_sensor_type():\n",
    "            df_tmp = self.m_ioTSample.get_sensor_sample(sensor,protocol)\n",
    "            if df_tmp.shape[0] <= 0 :\n",
    "                continue\n",
    "            if df_tmp.shape[0] > normal_count:\n",
    "                df_tmp = df_tmp.sample(n=normal_count)\n",
    "            df_normal = pd.concat([df_normal,df_tmp],ignore_index=True)\n",
    "        df_sample = pd.concat([df_normal,df_attack],ignore_index=True)\n",
    "        return df_sample\n",
    "        \n",
    "    def get_select_sample(self,df_sample):\n",
    "        used_columns = []\n",
    "        for column_name, dtype in df_sample.dtypes.items():\n",
    "            if column_name in ['id','frame.time_utc','frame.time_delta']:\n",
    "                continue\n",
    "            if dtype == 'object':\n",
    "                continue\n",
    "            if not column_name in [self.m_col_y] and df_sample[column_name].nunique() < 2:\n",
    "                continue\n",
    "            used_columns.append(column_name)\n",
    "        \n",
    "        df_data = df_sample[used_columns]\n",
    "        return df_data\n",
    "\n",
    "    def load_sample(self,maxCount = 20000):\n",
    "        df_sample = self.get_raw_sample(self.m_attack,self.m_protocol,maxCount)\n",
    "        df_data = self.get_select_sample(df_sample)\n",
    "        self.m_sample = df_data.sample(frac=1).reset_index(drop=True)\n",
    "        self.m_col_x = self.m_sample.keys().tolist()\n",
    "\n",
    "        if self.m_sample[self.m_col_y].nunique() < 2:\n",
    "            print(\"Less Label category ( class < 2\")\n",
    "            return False\n",
    "        \n",
    "        return True\n",
    "        \n",
    "    def preprocess(self):\n",
    "        df_data = self.m_ioTSample.format(self.m_sample)\n",
    "        self.m_col_x = df_data.keys().tolist()\n",
    "        self.m_sample, scale_columns = CSHDataProcess.get_scale(df_data,y_column=self.m_col_y)\n",
    "        self.m_train,self.m_test = CSHSample.split_dataset(self.m_sample)\n",
    "        \n",
    "    def train(self):\n",
    "        self.m_model.train(self.m_train,x_columns=self.m_col_x,y_column=self.m_col_y,train_ratio = 0)\n",
    "        return self.m_model.importance()\n",
    "\n",
    "    def test(self):\n",
    "        return self.m_model.evaluate(self.m_test,x_columns=self.m_col_x,y_column=self.m_col_y)"
   ]
  },
  {
   "cell_type": "code",
   "execution_count": 7,
   "id": "20929bb3-7e9c-46b3-9509-9ff0661c4be2",
   "metadata": {},
   "outputs": [],
   "source": [
    "attack=\"Backdoor_attack\"\n",
    "protocol=\"eth-ethertype-ip\".replace(\"-\",\":\")"
   ]
  },
  {
   "cell_type": "code",
   "execution_count": 8,
   "id": "5c349614-4384-40f7-8c57-6fe1317f0bae",
   "metadata": {},
   "outputs": [
    {
     "ename": "KeyboardInterrupt",
     "evalue": "",
     "output_type": "error",
     "traceback": [
      "\u001b[0;31m---------------------------------------------------------------------------\u001b[0m",
      "\u001b[0;31mKeyboardInterrupt\u001b[0m                         Traceback (most recent call last)",
      "Cell \u001b[0;32mIn[8], line 2\u001b[0m\n\u001b[1;32m      1\u001b[0m model \u001b[38;5;241m=\u001b[39m CIoTModel(attack,protocol)\n\u001b[0;32m----> 2\u001b[0m \u001b[38;5;28;01mif\u001b[39;00m \u001b[43mmodel\u001b[49m\u001b[38;5;241;43m.\u001b[39;49m\u001b[43mload_sample\u001b[49m\u001b[43m(\u001b[49m\u001b[43m)\u001b[49m:\n\u001b[1;32m      3\u001b[0m     model\u001b[38;5;241m.\u001b[39mpreprocess()\n\u001b[1;32m      4\u001b[0m     df_importance \u001b[38;5;241m=\u001b[39m model\u001b[38;5;241m.\u001b[39mtrain()\n",
      "Cell \u001b[0;32mIn[6], line 44\u001b[0m, in \u001b[0;36mCIoTModel.load_sample\u001b[0;34m(self, maxCount)\u001b[0m\n\u001b[1;32m     43\u001b[0m \u001b[38;5;28;01mdef\u001b[39;00m \u001b[38;5;21mload_sample\u001b[39m(\u001b[38;5;28mself\u001b[39m,maxCount \u001b[38;5;241m=\u001b[39m \u001b[38;5;241m20000\u001b[39m):\n\u001b[0;32m---> 44\u001b[0m     df_sample \u001b[38;5;241m=\u001b[39m \u001b[38;5;28;43mself\u001b[39;49m\u001b[38;5;241;43m.\u001b[39;49m\u001b[43mget_raw_sample\u001b[49m\u001b[43m(\u001b[49m\u001b[38;5;28;43mself\u001b[39;49m\u001b[38;5;241;43m.\u001b[39;49m\u001b[43mm_attack\u001b[49m\u001b[43m,\u001b[49m\u001b[38;5;28;43mself\u001b[39;49m\u001b[38;5;241;43m.\u001b[39;49m\u001b[43mm_protocol\u001b[49m\u001b[43m,\u001b[49m\u001b[43mmaxCount\u001b[49m\u001b[43m)\u001b[49m\n\u001b[1;32m     45\u001b[0m     df_data \u001b[38;5;241m=\u001b[39m \u001b[38;5;28mself\u001b[39m\u001b[38;5;241m.\u001b[39mget_select_sample(df_sample)\n\u001b[1;32m     46\u001b[0m     \u001b[38;5;28mself\u001b[39m\u001b[38;5;241m.\u001b[39mm_sample \u001b[38;5;241m=\u001b[39m df_data\u001b[38;5;241m.\u001b[39msample(frac\u001b[38;5;241m=\u001b[39m\u001b[38;5;241m1\u001b[39m)\u001b[38;5;241m.\u001b[39mreset_index(drop\u001b[38;5;241m=\u001b[39m\u001b[38;5;28;01mTrue\u001b[39;00m)\n",
      "Cell \u001b[0;32mIn[6], line 20\u001b[0m, in \u001b[0;36mCIoTModel.get_raw_sample\u001b[0;34m(self, attack, protocol, maxCount)\u001b[0m\n\u001b[1;32m     18\u001b[0m df_normal \u001b[38;5;241m=\u001b[39m pd\u001b[38;5;241m.\u001b[39mDataFrame()\n\u001b[1;32m     19\u001b[0m \u001b[38;5;28;01mfor\u001b[39;00m sensor \u001b[38;5;129;01min\u001b[39;00m \u001b[38;5;28mself\u001b[39m\u001b[38;5;241m.\u001b[39mm_ioTSample\u001b[38;5;241m.\u001b[39mget_sensor_type():\n\u001b[0;32m---> 20\u001b[0m     df_tmp \u001b[38;5;241m=\u001b[39m \u001b[38;5;28;43mself\u001b[39;49m\u001b[38;5;241;43m.\u001b[39;49m\u001b[43mm_ioTSample\u001b[49m\u001b[38;5;241;43m.\u001b[39;49m\u001b[43mget_sensor_sample\u001b[49m\u001b[43m(\u001b[49m\u001b[43msensor\u001b[49m\u001b[43m,\u001b[49m\u001b[43mprotocol\u001b[49m\u001b[43m)\u001b[49m\n\u001b[1;32m     21\u001b[0m     \u001b[38;5;28;01mif\u001b[39;00m df_tmp\u001b[38;5;241m.\u001b[39mshape[\u001b[38;5;241m0\u001b[39m] \u001b[38;5;241m<\u001b[39m\u001b[38;5;241m=\u001b[39m \u001b[38;5;241m0\u001b[39m :\n\u001b[1;32m     22\u001b[0m         \u001b[38;5;28;01mcontinue\u001b[39;00m\n",
      "File \u001b[0;32m~/Desktop/workspace/paper/iot/./common/IoTSample.py:110\u001b[0m, in \u001b[0;36mCIoTSample.get_sensor_sample\u001b[0;34m(self, trafficType, protocol)\u001b[0m\n\u001b[1;32m    108\u001b[0m     df_tmp \u001b[38;5;241m=\u001b[39m pd\u001b[38;5;241m.\u001b[39mread_json(file)\n\u001b[1;32m    109\u001b[0m     df_tmp[\u001b[38;5;124m'\u001b[39m\u001b[38;5;124mfile\u001b[39m\u001b[38;5;124m'\u001b[39m] \u001b[38;5;241m=\u001b[39m file\n\u001b[0;32m--> 110\u001b[0m     df_sample \u001b[38;5;241m=\u001b[39m \u001b[43mpd\u001b[49m\u001b[38;5;241;43m.\u001b[39;49m\u001b[43mconcat\u001b[49m\u001b[43m(\u001b[49m\u001b[43m[\u001b[49m\u001b[43mdf_sample\u001b[49m\u001b[43m,\u001b[49m\u001b[43mdf_tmp\u001b[49m\u001b[43m]\u001b[49m\u001b[43m,\u001b[49m\u001b[43mignore_index\u001b[49m\u001b[38;5;241;43m=\u001b[39;49m\u001b[38;5;28;43;01mFalse\u001b[39;49;00m\u001b[43m)\u001b[49m\n\u001b[1;32m    112\u001b[0m \u001b[38;5;28;01mreturn\u001b[39;00m df_sample\u001b[38;5;241m.\u001b[39msort_values(by\u001b[38;5;241m=\u001b[39m\u001b[38;5;124m'\u001b[39m\u001b[38;5;124mframe.time_utc\u001b[39m\u001b[38;5;124m'\u001b[39m)\u001b[38;5;241m.\u001b[39mreset_index(drop\u001b[38;5;241m=\u001b[39m\u001b[38;5;28;01mTrue\u001b[39;00m)\n",
      "File \u001b[0;32m~/anaconda3/envs/py38/lib/python3.8/site-packages/pandas/core/reshape/concat.py:385\u001b[0m, in \u001b[0;36mconcat\u001b[0;34m(objs, axis, join, ignore_index, keys, levels, names, verify_integrity, sort, copy)\u001b[0m\n\u001b[1;32m    370\u001b[0m     copy \u001b[38;5;241m=\u001b[39m \u001b[38;5;28;01mFalse\u001b[39;00m\n\u001b[1;32m    372\u001b[0m op \u001b[38;5;241m=\u001b[39m _Concatenator(\n\u001b[1;32m    373\u001b[0m     objs,\n\u001b[1;32m    374\u001b[0m     axis\u001b[38;5;241m=\u001b[39maxis,\n\u001b[0;32m   (...)\u001b[0m\n\u001b[1;32m    382\u001b[0m     sort\u001b[38;5;241m=\u001b[39msort,\n\u001b[1;32m    383\u001b[0m )\n\u001b[0;32m--> 385\u001b[0m \u001b[38;5;28;01mreturn\u001b[39;00m \u001b[43mop\u001b[49m\u001b[38;5;241;43m.\u001b[39;49m\u001b[43mget_result\u001b[49m\u001b[43m(\u001b[49m\u001b[43m)\u001b[49m\n",
      "File \u001b[0;32m~/anaconda3/envs/py38/lib/python3.8/site-packages/pandas/core/reshape/concat.py:616\u001b[0m, in \u001b[0;36m_Concatenator.get_result\u001b[0;34m(self)\u001b[0m\n\u001b[1;32m    612\u001b[0m             indexers[ax] \u001b[38;5;241m=\u001b[39m obj_labels\u001b[38;5;241m.\u001b[39mget_indexer(new_labels)\n\u001b[1;32m    614\u001b[0m     mgrs_indexers\u001b[38;5;241m.\u001b[39mappend((obj\u001b[38;5;241m.\u001b[39m_mgr, indexers))\n\u001b[0;32m--> 616\u001b[0m new_data \u001b[38;5;241m=\u001b[39m \u001b[43mconcatenate_managers\u001b[49m\u001b[43m(\u001b[49m\n\u001b[1;32m    617\u001b[0m \u001b[43m    \u001b[49m\u001b[43mmgrs_indexers\u001b[49m\u001b[43m,\u001b[49m\u001b[43m \u001b[49m\u001b[38;5;28;43mself\u001b[39;49m\u001b[38;5;241;43m.\u001b[39;49m\u001b[43mnew_axes\u001b[49m\u001b[43m,\u001b[49m\u001b[43m \u001b[49m\u001b[43mconcat_axis\u001b[49m\u001b[38;5;241;43m=\u001b[39;49m\u001b[38;5;28;43mself\u001b[39;49m\u001b[38;5;241;43m.\u001b[39;49m\u001b[43mbm_axis\u001b[49m\u001b[43m,\u001b[49m\u001b[43m \u001b[49m\u001b[43mcopy\u001b[49m\u001b[38;5;241;43m=\u001b[39;49m\u001b[38;5;28;43mself\u001b[39;49m\u001b[38;5;241;43m.\u001b[39;49m\u001b[43mcopy\u001b[49m\n\u001b[1;32m    618\u001b[0m \u001b[43m\u001b[49m\u001b[43m)\u001b[49m\n\u001b[1;32m    619\u001b[0m \u001b[38;5;28;01mif\u001b[39;00m \u001b[38;5;129;01mnot\u001b[39;00m \u001b[38;5;28mself\u001b[39m\u001b[38;5;241m.\u001b[39mcopy \u001b[38;5;129;01mand\u001b[39;00m \u001b[38;5;129;01mnot\u001b[39;00m using_copy_on_write():\n\u001b[1;32m    620\u001b[0m     new_data\u001b[38;5;241m.\u001b[39m_consolidate_inplace()\n",
      "File \u001b[0;32m~/anaconda3/envs/py38/lib/python3.8/site-packages/pandas/core/internals/concat.py:242\u001b[0m, in \u001b[0;36mconcatenate_managers\u001b[0;34m(mgrs_indexers, axes, concat_axis, copy)\u001b[0m\n\u001b[1;32m    240\u001b[0m     fastpath \u001b[38;5;241m=\u001b[39m blk\u001b[38;5;241m.\u001b[39mvalues\u001b[38;5;241m.\u001b[39mdtype \u001b[38;5;241m==\u001b[39m values\u001b[38;5;241m.\u001b[39mdtype\n\u001b[1;32m    241\u001b[0m \u001b[38;5;28;01melse\u001b[39;00m:\n\u001b[0;32m--> 242\u001b[0m     values \u001b[38;5;241m=\u001b[39m \u001b[43m_concatenate_join_units\u001b[49m\u001b[43m(\u001b[49m\u001b[43mjoin_units\u001b[49m\u001b[43m,\u001b[49m\u001b[43m \u001b[49m\u001b[43mcopy\u001b[49m\u001b[38;5;241;43m=\u001b[39;49m\u001b[43mcopy\u001b[49m\u001b[43m)\u001b[49m\n\u001b[1;32m    243\u001b[0m     fastpath \u001b[38;5;241m=\u001b[39m \u001b[38;5;28;01mFalse\u001b[39;00m\n\u001b[1;32m    245\u001b[0m \u001b[38;5;28;01mif\u001b[39;00m fastpath:\n",
      "File \u001b[0;32m~/anaconda3/envs/py38/lib/python3.8/site-packages/pandas/core/internals/concat.py:613\u001b[0m, in \u001b[0;36m_concatenate_join_units\u001b[0;34m(join_units, copy)\u001b[0m\n\u001b[1;32m    610\u001b[0m     concat_values \u001b[38;5;241m=\u001b[39m ensure_block_shape(concat_values, \u001b[38;5;241m2\u001b[39m)\n\u001b[1;32m    612\u001b[0m \u001b[38;5;28;01melse\u001b[39;00m:\n\u001b[0;32m--> 613\u001b[0m     concat_values \u001b[38;5;241m=\u001b[39m \u001b[43mconcat_compat\u001b[49m\u001b[43m(\u001b[49m\u001b[43mto_concat\u001b[49m\u001b[43m,\u001b[49m\u001b[43m \u001b[49m\u001b[43maxis\u001b[49m\u001b[38;5;241;43m=\u001b[39;49m\u001b[38;5;241;43m1\u001b[39;49m\u001b[43m)\u001b[49m\n\u001b[1;32m    615\u001b[0m \u001b[38;5;28;01mreturn\u001b[39;00m concat_values\n",
      "File \u001b[0;32m~/anaconda3/envs/py38/lib/python3.8/site-packages/pandas/core/dtypes/concat.py:117\u001b[0m, in \u001b[0;36mconcat_compat\u001b[0;34m(to_concat, axis, ea_compat_axis)\u001b[0m\n\u001b[1;32m    114\u001b[0m \u001b[38;5;28;01melse\u001b[39;00m:\n\u001b[1;32m    115\u001b[0m     target_dtype \u001b[38;5;241m=\u001b[39m np_find_common_type(\u001b[38;5;241m*\u001b[39mdtypes)\n\u001b[0;32m--> 117\u001b[0m result \u001b[38;5;241m=\u001b[39m \u001b[43mnp\u001b[49m\u001b[38;5;241;43m.\u001b[39;49m\u001b[43mconcatenate\u001b[49m\u001b[43m(\u001b[49m\u001b[43mto_concat\u001b[49m\u001b[43m,\u001b[49m\u001b[43m \u001b[49m\u001b[43maxis\u001b[49m\u001b[38;5;241;43m=\u001b[39;49m\u001b[43maxis\u001b[49m\u001b[43m)\u001b[49m\n\u001b[1;32m    118\u001b[0m \u001b[38;5;28;01mif\u001b[39;00m \u001b[38;5;124m\"\u001b[39m\u001b[38;5;124mb\u001b[39m\u001b[38;5;124m\"\u001b[39m \u001b[38;5;129;01min\u001b[39;00m kinds \u001b[38;5;129;01mand\u001b[39;00m result\u001b[38;5;241m.\u001b[39mdtype\u001b[38;5;241m.\u001b[39mkind \u001b[38;5;129;01min\u001b[39;00m [\u001b[38;5;124m\"\u001b[39m\u001b[38;5;124mi\u001b[39m\u001b[38;5;124m\"\u001b[39m, \u001b[38;5;124m\"\u001b[39m\u001b[38;5;124mu\u001b[39m\u001b[38;5;124m\"\u001b[39m, \u001b[38;5;124m\"\u001b[39m\u001b[38;5;124mf\u001b[39m\u001b[38;5;124m\"\u001b[39m]:\n\u001b[1;32m    119\u001b[0m     \u001b[38;5;66;03m# GH#39817 cast to object instead of casting bools to numeric\u001b[39;00m\n\u001b[1;32m    120\u001b[0m     result \u001b[38;5;241m=\u001b[39m result\u001b[38;5;241m.\u001b[39mastype(\u001b[38;5;28mobject\u001b[39m, copy\u001b[38;5;241m=\u001b[39m\u001b[38;5;28;01mFalse\u001b[39;00m)\n",
      "File \u001b[0;32m<__array_function__ internals>:200\u001b[0m, in \u001b[0;36mconcatenate\u001b[0;34m(*args, **kwargs)\u001b[0m\n",
      "\u001b[0;31mKeyboardInterrupt\u001b[0m: "
     ]
    }
   ],
   "source": [
    "model = CIoTModel(attack,protocol)\n",
    "if model.load_sample():\n",
    "    model.preprocess()\n",
    "    df_importance = model.train()\n",
    "    df_verify = model.test()\n",
    "else:\n",
    "    print(\"No Sample\")"
   ]
  },
  {
   "cell_type": "code",
   "execution_count": null,
   "id": "d0986e65-df98-4e23-bd5f-5b1a8871c088",
   "metadata": {},
   "outputs": [],
   "source": []
  }
 ],
 "metadata": {
  "kernelspec": {
   "display_name": "Python 3 (ipykernel)",
   "language": "python",
   "name": "python3"
  },
  "language_info": {
   "codemirror_mode": {
    "name": "ipython",
    "version": 3
   },
   "file_extension": ".py",
   "mimetype": "text/x-python",
   "name": "python",
   "nbconvert_exporter": "python",
   "pygments_lexer": "ipython3",
   "version": "3.8.19"
  }
 },
 "nbformat": 4,
 "nbformat_minor": 5
}
