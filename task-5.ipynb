{
 "cells": [
  {
   "cell_type": "markdown",
   "id": "26c94e41-276b-460b-bc6b-597959b05a69",
   "metadata": {
    "scrolled": true
   },
   "source": [
    "# Task 5 : 查看频谱分布"
   ]
  },
  {
   "cell_type": "code",
   "execution_count": 1,
   "id": "b314d3a1-e9f2-4af1-92c2-3dc9ac7936cd",
   "metadata": {},
   "outputs": [],
   "source": [
    "import os,json,sys,logging\n",
    "from numpy import nan\n",
    "sys.path.append(\"./share\")\n",
    "sys.path.append(\"./common\")\n",
    "import pandas as pd\n",
    "import json,logging\n",
    "import matplotlib.pyplot as plt\n",
    "import numpy as np\n",
    "from tqdm.notebook import tqdm\n",
    "tqdm.pandas()\n",
    "from SHSample import CSHSample\n",
    "from IoTSample import CIoTSample\n",
    "from IoTDatabase import CIoTDbFeatures,CIoTDbSample,import_sample\n",
    "from IoTScore import CIoTScore,CIoTScoreTest,Create_Score_Sample,Create_Normal_Sample\n",
    "from IoTCommon import CIoTCommon\n",
    "from sklearn.metrics import jaccard_score\n",
    "from scipy.stats import skew, kurtosis\n",
    "from matplotlib.ticker import ScalarFormatter\n",
    "from matplotlib.ticker import FuncFormatter\n",
    "import warnings\n",
    "warnings.simplefilter(\"ignore\")\n",
    "pd.set_option('display.float_format', lambda x: '%.4f' % x)\n",
    "np.set_printoptions(suppress=True)"
   ]
  },
  {
   "cell_type": "markdown",
   "id": "7b194cbf-d2dc-468a-8885-b19a2c3f91d8",
   "metadata": {},
   "source": [
    "# 查看分数的分布"
   ]
  },
  {
   "cell_type": "code",
   "execution_count": null,
   "id": "454b1678-06a9-40e7-be44-e68d9ec067b7",
   "metadata": {},
   "outputs": [
    {
     "data": {
      "application/vnd.jupyter.widget-view+json": {
       "model_id": "7dd9706d32594b2baa498ea414b23f6d",
       "version_major": 2,
       "version_minor": 0
      },
      "text/plain": [
       "  0%|          | 0/14 [00:00<?, ?it/s]"
      ]
     },
     "metadata": {},
     "output_type": "display_data"
    }
   ],
   "source": [
    "df_result = pd.DataFrame()\n",
    "for attack in tqdm(CIoTSample().get_attack_type()):\n",
    "    ioTScore = CIoTScoreTest(attack)\n",
    "    df_tmp = ioTScore.get_result()\n",
    "    df_result = pd.concat([df_result,df_tmp],ignore_index=True)\n",
    "    print(attack)\n",
    "    ioTScore.show_result(df_tmp,n_samples=200)\n",
    "df_result = df_result.reset_index(drop=True)"
   ]
  },
  {
   "cell_type": "code",
   "execution_count": null,
   "id": "9c3071c4-76bf-4ba3-94a7-f13b3e500779",
   "metadata": {},
   "outputs": [],
   "source": []
  }
 ],
 "metadata": {
  "kernelspec": {
   "display_name": "Python 3 (ipykernel)",
   "language": "python",
   "name": "python3"
  },
  "language_info": {
   "codemirror_mode": {
    "name": "ipython",
    "version": 3
   },
   "file_extension": ".py",
   "mimetype": "text/x-python",
   "name": "python",
   "nbconvert_exporter": "python",
   "pygments_lexer": "ipython3",
   "version": "3.9.18"
  }
 },
 "nbformat": 4,
 "nbformat_minor": 5
}
