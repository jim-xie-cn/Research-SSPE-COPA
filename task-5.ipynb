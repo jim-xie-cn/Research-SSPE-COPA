{
 "cells": [
  {
   "cell_type": "markdown",
   "id": "26c94e41-276b-460b-bc6b-597959b05a69",
   "metadata": {
    "scrolled": true
   },
   "source": [
    "# Task 5 : 生成训练用的数据集\n",
    "\n",
    "1. 过滤掉异常数据\n",
    "2. 生成全局的字典（类别代码）\n",
    "3. 对数据集进行数据类型转换"
   ]
  },
  {
   "cell_type": "code",
   "execution_count": 13,
   "id": "b314d3a1-e9f2-4af1-92c2-3dc9ac7936cd",
   "metadata": {},
   "outputs": [],
   "source": [
    "import os,json,sys,logging\n",
    "from numpy import nan\n",
    "sys.path.append(\"./share\")\n",
    "sys.path.append(\"./common\")\n",
    "import pandas as pd\n",
    "import json\n",
    "import numpy as np\n",
    "from tqdm import tqdm\n",
    "from IoTCommon import CIoTCommon\n",
    "from IoTTotalFeature import CIoTTotalFeature\n",
    "from Config import g_data_root\n",
    "import warnings\n",
    "warnings.simplefilter(\"ignore\")"
   ]
  },
  {
   "cell_type": "markdown",
   "id": "e96a1031-28ab-417a-bd45-52a902f53134",
   "metadata": {},
   "source": [
    "### 读取有效特征，过滤常量特征，将特征划分到不同的协议"
   ]
  },
  {
   "cell_type": "code",
   "execution_count": 14,
   "id": "c74f1ab6-262e-45a1-acde-c4c63c72a0ea",
   "metadata": {},
   "outputs": [],
   "source": [
    "df_features = pd.read_excel(\"%s/features/features.xlsx\"%g_data_root,index_col=0).reset_index()\n",
    "df_features = df_features[df_features['effective'] !=\"N\"]\n",
    "df_features = df_features[df_features['count'] > 1].reset_index(drop=True)\n",
    "totalFeature = CIoTTotalFeature()\n",
    "df_features = CIoTTotalFeature.get_expand_features(df_features,totalFeature)"
   ]
  },
  {
   "cell_type": "code",
   "execution_count": 15,
   "id": "fc912d2b-0102-40ca-b4e5-8b7b3a460b4a",
   "metadata": {},
   "outputs": [],
   "source": [
    "def find_type_values(protocol,feature):\n",
    "    mask = ( df_features['protocol'] == protocol ) & ( df_features['feature'] == feature )\n",
    "    df_tmp = df_features[mask]\n",
    "    if df_tmp.shape[0] <= 0: return None,None\n",
    "    type = df_tmp.iloc[0]['type']\n",
    "    values = df_tmp.iloc[0]['values']\n",
    "    return type,values"
   ]
  },
  {
   "cell_type": "markdown",
   "id": "c222dfc8-f56b-488e-965d-8e4973735f24",
   "metadata": {},
   "source": [
    "### 生成类别代码"
   ]
  },
  {
   "cell_type": "code",
   "execution_count": 16,
   "id": "f6984479-67a1-4a33-918b-38ac8ee55c3b",
   "metadata": {
    "scrolled": true
   },
   "outputs": [],
   "source": [
    "g_category_map = {}\n",
    "for protocol in totalFeature.get_protocols():\n",
    "    if not protocol in g_category_map:\n",
    "        g_category_map[protocol] = {}\n",
    "    for feature in totalFeature.get_features(protocol):    \n",
    "        #if feature != \"arp.dst.hw_mac\":continue\n",
    "        if not feature in g_category_map[protocol]:\n",
    "            g_category_map[protocol][feature] = {}\n",
    "            \n",
    "        type,values = find_type_values(protocol,feature)\n",
    "        \n",
    "        if type != 'category' : continue\n",
    "        \n",
    "        values=json.dumps(eval(values),allow_nan=True)\n",
    "        values = json.loads(values)\n",
    "        for i in range(len(values)):\n",
    "            try:\n",
    "                v = str(int(values[i]))\n",
    "            except:\n",
    "                v = str(values[i])\n",
    "            v = \"None\" if v=='nan' else v\n",
    "            g_category_map[protocol][feature][v] = i\n",
    "            \n",
    "        if not \"None\" in g_category_map[protocol][feature]:\n",
    "            g_category_map[protocol][feature][\"None\"] = len(values)\n",
    "            \n",
    "with open(\"%sfeatures/categorymap.json\"%g_data_root,'w') as fp:\n",
    "    fp.write(json.dumps(g_category_map,indent=4))"
   ]
  },
  {
   "cell_type": "code",
   "execution_count": 17,
   "id": "d82cacf1-c2f6-478b-9916-ba77bcf3e8e5",
   "metadata": {},
   "outputs": [],
   "source": [
    "def format_feature_data(protocol,feature,type,ds_data):\n",
    "    if type == \"string\":\n",
    "        ds_data = ds_data.fillna(\"None\")\n",
    "        ds = ds_data\n",
    "    elif type == \"int\":\n",
    "        ds = ds_data.fillna('0')\n",
    "        ds = ds.replace(' ', '0')\n",
    "        ds = ds.replace('', '0')\n",
    "        ds = ds.replace('None', '0')\n",
    "        ds = ds.astype(int)\n",
    "        #ds = pd.to_numeric(ds, errors='coerce', downcast='integer')\n",
    "    elif type == \"float\":\n",
    "        ds = ds_data.fillna('0.0')\n",
    "        ds = ds.replace('', '0.0')\n",
    "        ds = ds.replace(' ', '0.0')\n",
    "        ds = ds.replace('None', '0.0')\n",
    "        ds = ds.astype(float)\n",
    "    elif type == \"bool\":\n",
    "        ds = ds_data.fillna(\"0\")\n",
    "        ds = ds.apply(lambda x: False if str(x).lower() in [\"None\",\"none\",'0','nan','NaN',nan,None,0] else True)\n",
    "        ds = ds.astype(bool)\n",
    "    elif type == \"category\":\n",
    "        def category2int(x):\n",
    "            try:\n",
    "                v = str(int(x))\n",
    "            except:\n",
    "                v = str(x)            \n",
    "            if not v in g_category_map[protocol][feature]:\n",
    "                print(\"Not in category map\",protocol,feature,v)\n",
    "            return g_category_map[protocol][feature][v]\n",
    "        ds = ds_data.fillna(\"None\")\n",
    "        ds = ds.apply(lambda x: category2int(x))\n",
    "        ds = ds.astype(int)\n",
    "    elif type == \"binary\":\n",
    "        ds = ds_data.fillna(\"\")\n",
    "        #ds = ds.apply(lambda x: bytes(str(x), 'utf-8'))\n",
    "    elif type == \"datetime\":\n",
    "        ds = pd.to_datetime(ds_data)\n",
    "    else:\n",
    "        ds = None\n",
    "        print(\"unkown data type\",type)\n",
    "    return ds"
   ]
  },
  {
   "cell_type": "markdown",
   "id": "c6299f24-4754-43a0-b1bd-c5c086b4d039",
   "metadata": {},
   "source": [
    "### 生成新数据集\n",
    "1. 根据协议划分特征子集\n",
    "2. 特征值类型转换"
   ]
  },
  {
   "cell_type": "code",
   "execution_count": null,
   "id": "802cdcd4-43ac-4665-9f1d-a331b5e3f65b",
   "metadata": {},
   "outputs": [
    {
     "name": "stderr",
     "output_type": "stream",
     "text": [
      "  7%|███████▋                                                                                                           | 138/2076 [15:02<1:29:51,  2.78s/it]"
     ]
    }
   ],
   "source": [
    "temp_folder = \"%s/dataset\"%g_data_root\n",
    "for fi in tqdm(CIoTCommon.get_json_files(temp_folder)):\n",
    "    fi = fi.replace(\"\\\\\",\"/\")\n",
    "    tmp = fi.split(\"/\")\n",
    "    attackType,trafficType,fileName = tmp[-3],tmp[-2],tmp[-1].split(\".\")[0]\n",
    "    new_path = \"%ssample/%s/%s/%s/\"%(g_data_root,attackType,trafficType,fileName)\n",
    "    os.makedirs(new_path,exist_ok = True)\n",
    "    \n",
    "    #if trafficType != \"Backdoor_attack\" : continue\n",
    "    \n",
    "    df_sample = pd.read_json(fi)\n",
    "    df_sample = df_sample.rename(columns={\"frame.protocols\":\"protocol\"})\n",
    "    df_sample = df_sample[df_sample['protocol'].isin(totalFeature.get_protocols())].reset_index(drop=True)\n",
    "    df_sample['id'] = df_sample.index\n",
    "    public_columns = ['id','Label',\"protocol\",\"frame.time_utc\",\"frame.time_delta\"]\n",
    "    \n",
    "    #生成全部协议空间（包括父，子协议）\n",
    "    total_protocols = []\n",
    "    for protocol in df_sample['protocol'].unique().tolist():\n",
    "        for proto in CIoTTotalFeature.get_expand_protocols(protocol):\n",
    "            if not proto in total_protocols:\n",
    "                total_protocols.append(proto)\n",
    "                \n",
    "    #生成各种协议的样本\n",
    "    for protocol in totalFeature.get_protocols():\n",
    "        \n",
    "        #if protocol != 'eth:ethertype:ip:udp:dns' :continue\n",
    "        \n",
    "        if not protocol in total_protocols:\n",
    "            continue\n",
    "        new_features = totalFeature.get_features(protocol)\n",
    "        current_features   = df_sample.keys().tolist()\n",
    "        proto_columns  = list( set(new_features) & set(current_features) )\n",
    "        if not proto_columns: continue\n",
    "        total_columns = list(public_columns)\n",
    "        for col in proto_columns:\n",
    "            if not col in total_columns:\n",
    "                total_columns.append(col)\n",
    "        df_tmp = df_sample[total_columns]\n",
    "        df_tmp = df_tmp.dropna(axis=0,subset=proto_columns,how='all')\n",
    "        \n",
    "        if len(df_tmp.keys().tolist()) == len(public_columns): continue\n",
    "        if df_tmp.shape[0] <= 0: continue\n",
    "        \n",
    "        for feature in df_tmp:\n",
    "            \n",
    "            #if feature != \"dns.retransmission\" :continue\n",
    "            \n",
    "            if feature in ['id','protocol','Label']:\n",
    "                continue\n",
    "            if feature in public_columns:\n",
    "                type,value = find_type_values(\"eth\",feature)\n",
    "            else:\n",
    "                type,value = find_type_values(protocol,feature)\n",
    "            if not type:\n",
    "                print(\"No type found\",protocol,feature,type)\n",
    "            else:\n",
    "                df_tmp[feature] = format_feature_data(protocol,feature,type,df_tmp[feature])\n",
    "\n",
    "        new_json_file = \"%s%s.json\"%(new_path,protocol.replace(\":\",\"-\"))\n",
    "        df_tmp.to_json(new_json_file,orient=\"records\")"
   ]
  },
  {
   "cell_type": "code",
   "execution_count": null,
   "id": "9c0e28c6-686c-4c08-8ea8-d057c6669657",
   "metadata": {},
   "outputs": [],
   "source": []
  }
 ],
 "metadata": {
  "kernelspec": {
   "display_name": "Python 3 (ipykernel)",
   "language": "python",
   "name": "python3"
  },
  "language_info": {
   "codemirror_mode": {
    "name": "ipython",
    "version": 3
   },
   "file_extension": ".py",
   "mimetype": "text/x-python",
   "name": "python",
   "nbconvert_exporter": "python",
   "pygments_lexer": "ipython3",
   "version": "3.8.19"
  }
 },
 "nbformat": 4,
 "nbformat_minor": 5
}
