{
 "cells": [
  {
   "cell_type": "markdown",
   "id": "543b6e80-21d1-48d0-8d00-9adbc4fb7eca",
   "metadata": {},
   "source": [
    "# Task 1 ：复现实验\n",
    "\n",
    "分析文章的baseline，发现该方法无法在真实场景中使用：\n",
    "1. 选取的数据集中，有异常数据\n",
    "2. 选取的特征中，有无效特征\n",
    "3. 通过特征图筛选，可以筛选出3～4个特征，使用筛选出来的特征，可达到与全部特征相近的结果\n",
    "4. 选取的特征，为不稳定特征，无法在真实场景中使用"
   ]
  },
  {
   "cell_type": "code",
   "execution_count": 3,
   "id": "646f59df-f5f7-40c2-b195-a4d890f40259",
   "metadata": {},
   "outputs": [
    {
     "name": "stdout",
     "output_type": "stream",
     "text": [
      "Checking whether there is an H2O instance running at http://localhost:54321. connected.\n"
     ]
    },
    {
     "data": {
      "text/html": [
       "\n",
       "<style>\n",
       "\n",
       "#h2o-table-1.h2o-container {\n",
       "  overflow-x: auto;\n",
       "}\n",
       "#h2o-table-1 .h2o-table {\n",
       "  /* width: 100%; */\n",
       "  margin-top: 1em;\n",
       "  margin-bottom: 1em;\n",
       "}\n",
       "#h2o-table-1 .h2o-table caption {\n",
       "  white-space: nowrap;\n",
       "  caption-side: top;\n",
       "  text-align: left;\n",
       "  /* margin-left: 1em; */\n",
       "  margin: 0;\n",
       "  font-size: larger;\n",
       "}\n",
       "#h2o-table-1 .h2o-table thead {\n",
       "  white-space: nowrap; \n",
       "  position: sticky;\n",
       "  top: 0;\n",
       "  box-shadow: 0 -1px inset;\n",
       "}\n",
       "#h2o-table-1 .h2o-table tbody {\n",
       "  overflow: auto;\n",
       "}\n",
       "#h2o-table-1 .h2o-table th,\n",
       "#h2o-table-1 .h2o-table td {\n",
       "  text-align: right;\n",
       "  /* border: 1px solid; */\n",
       "}\n",
       "#h2o-table-1 .h2o-table tr:nth-child(even) {\n",
       "  /* background: #F5F5F5 */\n",
       "}\n",
       "\n",
       "</style>      \n",
       "<div id=\"h2o-table-1\" class=\"h2o-container\">\n",
       "  <table class=\"h2o-table\">\n",
       "    <caption></caption>\n",
       "    <thead></thead>\n",
       "    <tbody><tr><td>H2O_cluster_uptime:</td>\n",
       "<td>02 secs</td></tr>\n",
       "<tr><td>H2O_cluster_timezone:</td>\n",
       "<td>Asia/Shanghai</td></tr>\n",
       "<tr><td>H2O_data_parsing_timezone:</td>\n",
       "<td>UTC</td></tr>\n",
       "<tr><td>H2O_cluster_version:</td>\n",
       "<td>3.46.0.4</td></tr>\n",
       "<tr><td>H2O_cluster_version_age:</td>\n",
       "<td>3 months and 4 days</td></tr>\n",
       "<tr><td>H2O_cluster_name:</td>\n",
       "<td>H2O_from_python_root_sden0h</td></tr>\n",
       "<tr><td>H2O_cluster_total_nodes:</td>\n",
       "<td>1</td></tr>\n",
       "<tr><td>H2O_cluster_free_memory:</td>\n",
       "<td>19.45 Gb</td></tr>\n",
       "<tr><td>H2O_cluster_total_cores:</td>\n",
       "<td>20</td></tr>\n",
       "<tr><td>H2O_cluster_allowed_cores:</td>\n",
       "<td>20</td></tr>\n",
       "<tr><td>H2O_cluster_status:</td>\n",
       "<td>locked, healthy</td></tr>\n",
       "<tr><td>H2O_connection_url:</td>\n",
       "<td>http://localhost:54321</td></tr>\n",
       "<tr><td>H2O_connection_proxy:</td>\n",
       "<td>{\"http\": null, \"https\": null}</td></tr>\n",
       "<tr><td>H2O_internal_security:</td>\n",
       "<td>False</td></tr>\n",
       "<tr><td>Python_version:</td>\n",
       "<td>3.9.19 final</td></tr></tbody>\n",
       "  </table>\n",
       "</div>\n"
      ],
      "text/plain": [
       "--------------------------  -----------------------------\n",
       "H2O_cluster_uptime:         02 secs\n",
       "H2O_cluster_timezone:       Asia/Shanghai\n",
       "H2O_data_parsing_timezone:  UTC\n",
       "H2O_cluster_version:        3.46.0.4\n",
       "H2O_cluster_version_age:    3 months and 4 days\n",
       "H2O_cluster_name:           H2O_from_python_root_sden0h\n",
       "H2O_cluster_total_nodes:    1\n",
       "H2O_cluster_free_memory:    19.45 Gb\n",
       "H2O_cluster_total_cores:    20\n",
       "H2O_cluster_allowed_cores:  20\n",
       "H2O_cluster_status:         locked, healthy\n",
       "H2O_connection_url:         http://localhost:54321\n",
       "H2O_connection_proxy:       {\"http\": null, \"https\": null}\n",
       "H2O_internal_security:      False\n",
       "Python_version:             3.9.19 final\n",
       "--------------------------  -----------------------------"
      ]
     },
     "metadata": {},
     "output_type": "display_data"
    }
   ],
   "source": [
    "import os,sys\n",
    "sys.path.append(\"./share\")\n",
    "sys.path.append(\"./common\")\n",
    "sys.path.append(\"./ml\")\n",
    "from Config import g_data_root\n",
    "import pandas as pd\n",
    "import numpy as np\n",
    "import warnings,logging,re\n",
    "from SHVisualize import CSHVisualize\n",
    "from matplotlib import pyplot as plt\n",
    "from tqdm.notebook import tqdm\n",
    "from datetime import datetime\n",
    "from SHModelClassify import CSHModelClassify\n",
    "from SHSample import CSHSample\n",
    "from SHDataProcess import CSHDataProcess\n",
    "from SHDataEDA import CSHDataDistribution,CSHDataTest\n",
    "from SHFeatureSelect import CSHFeature\n",
    "from IoTNoise import CIoTNoise\n",
    "import seaborn as sns\n",
    "import h2o\n",
    "from pyecharts.globals import CurrentConfig, NotebookType\n",
    "CurrentConfig.NOTEBOOK_TYPE = NotebookType.JUPYTER_LAB\n",
    "tqdm.pandas()\n",
    "import warnings\n",
    "warnings.simplefilter(action='ignore')\n",
    "h2o.init(nthreads = -1, verbose=False)\n",
    "np.random.seed(42)\n",
    "h2o.init()"
   ]
  },
  {
   "cell_type": "code",
   "execution_count": 4,
   "id": "72c86eee-7a02-4d6c-bb17-37ebc03899ed",
   "metadata": {},
   "outputs": [],
   "source": [
    "def is_valid_ip(ip_str):\n",
    "    ip_pattern = re.compile(r'^((25[0-5]|2[0-4][0-9]|[01]?[0-9][0-9]?)\\.){3}(25[0-5]|2[0-4][0-9]|[01]?[0-9][0-9]?)$')\n",
    "    if ip_pattern.match(ip_str):\n",
    "        octets = ip_str.split('.')\n",
    "        for octet in octets:\n",
    "            if int(octet) > 255:\n",
    "                return False\n",
    "        return True\n",
    "    else:\n",
    "        return False\n",
    "\n",
    "def is_valid_time(time_str):\n",
    "    tmp = time_str.strip()\n",
    "    tmp = tmp[:-3]\n",
    "    try:\n",
    "        datetime.strptime(tmp, '%Y %H:%M:%S.%f')\n",
    "        return True\n",
    "    except ValueError:\n",
    "        return False"
   ]
  },
  {
   "cell_type": "markdown",
   "id": "96a6f7ab-7bde-4fca-993a-9e5831467d50",
   "metadata": {},
   "source": [
    "# 定义公共函数"
   ]
  },
  {
   "cell_type": "code",
   "execution_count": 5,
   "id": "42f4c7ba-4a32-4722-9b41-5e8893e03a1b",
   "metadata": {
    "slideshow": {
     "slide_type": ""
    },
    "tags": []
   },
   "outputs": [
    {
     "ename": "FileNotFoundError",
     "evalue": "[Errno 2] No such file or directory: './IIoTSet//raw/Selected dataset for ML and DL/ML-EdgeIIoT-dataset.csv'",
     "output_type": "error",
     "traceback": [
      "\u001b[0;31m---------------------------------------------------------------------------\u001b[0m",
      "\u001b[0;31mFileNotFoundError\u001b[0m                         Traceback (most recent call last)",
      "Cell \u001b[0;32mIn[5], line 1\u001b[0m\n\u001b[0;32m----> 1\u001b[0m df \u001b[38;5;241m=\u001b[39m \u001b[43mpd\u001b[49m\u001b[38;5;241;43m.\u001b[39;49m\u001b[43mread_csv\u001b[49m\u001b[43m(\u001b[49m\u001b[38;5;124;43m\"\u001b[39;49m\u001b[38;5;132;43;01m%s\u001b[39;49;00m\u001b[38;5;124;43m/raw/Selected dataset for ML and DL/ML-EdgeIIoT-dataset.csv\u001b[39;49m\u001b[38;5;124;43m\"\u001b[39;49m\u001b[38;5;241;43m%\u001b[39;49m\u001b[43mg_data_root\u001b[49m\u001b[43m,\u001b[49m\u001b[43mlow_memory\u001b[49m\u001b[38;5;241;43m=\u001b[39;49m\u001b[38;5;28;43;01mFalse\u001b[39;49;00m\u001b[43m)\u001b[49m\n",
      "File \u001b[0;32m~/miniconda3/envs/py39/lib/python3.9/site-packages/pandas/io/parsers/readers.py:1026\u001b[0m, in \u001b[0;36mread_csv\u001b[0;34m(filepath_or_buffer, sep, delimiter, header, names, index_col, usecols, dtype, engine, converters, true_values, false_values, skipinitialspace, skiprows, skipfooter, nrows, na_values, keep_default_na, na_filter, verbose, skip_blank_lines, parse_dates, infer_datetime_format, keep_date_col, date_parser, date_format, dayfirst, cache_dates, iterator, chunksize, compression, thousands, decimal, lineterminator, quotechar, quoting, doublequote, escapechar, comment, encoding, encoding_errors, dialect, on_bad_lines, delim_whitespace, low_memory, memory_map, float_precision, storage_options, dtype_backend)\u001b[0m\n\u001b[1;32m   1013\u001b[0m kwds_defaults \u001b[38;5;241m=\u001b[39m _refine_defaults_read(\n\u001b[1;32m   1014\u001b[0m     dialect,\n\u001b[1;32m   1015\u001b[0m     delimiter,\n\u001b[0;32m   (...)\u001b[0m\n\u001b[1;32m   1022\u001b[0m     dtype_backend\u001b[38;5;241m=\u001b[39mdtype_backend,\n\u001b[1;32m   1023\u001b[0m )\n\u001b[1;32m   1024\u001b[0m kwds\u001b[38;5;241m.\u001b[39mupdate(kwds_defaults)\n\u001b[0;32m-> 1026\u001b[0m \u001b[38;5;28;01mreturn\u001b[39;00m \u001b[43m_read\u001b[49m\u001b[43m(\u001b[49m\u001b[43mfilepath_or_buffer\u001b[49m\u001b[43m,\u001b[49m\u001b[43m \u001b[49m\u001b[43mkwds\u001b[49m\u001b[43m)\u001b[49m\n",
      "File \u001b[0;32m~/miniconda3/envs/py39/lib/python3.9/site-packages/pandas/io/parsers/readers.py:620\u001b[0m, in \u001b[0;36m_read\u001b[0;34m(filepath_or_buffer, kwds)\u001b[0m\n\u001b[1;32m    617\u001b[0m _validate_names(kwds\u001b[38;5;241m.\u001b[39mget(\u001b[38;5;124m\"\u001b[39m\u001b[38;5;124mnames\u001b[39m\u001b[38;5;124m\"\u001b[39m, \u001b[38;5;28;01mNone\u001b[39;00m))\n\u001b[1;32m    619\u001b[0m \u001b[38;5;66;03m# Create the parser.\u001b[39;00m\n\u001b[0;32m--> 620\u001b[0m parser \u001b[38;5;241m=\u001b[39m \u001b[43mTextFileReader\u001b[49m\u001b[43m(\u001b[49m\u001b[43mfilepath_or_buffer\u001b[49m\u001b[43m,\u001b[49m\u001b[43m \u001b[49m\u001b[38;5;241;43m*\u001b[39;49m\u001b[38;5;241;43m*\u001b[39;49m\u001b[43mkwds\u001b[49m\u001b[43m)\u001b[49m\n\u001b[1;32m    622\u001b[0m \u001b[38;5;28;01mif\u001b[39;00m chunksize \u001b[38;5;129;01mor\u001b[39;00m iterator:\n\u001b[1;32m    623\u001b[0m     \u001b[38;5;28;01mreturn\u001b[39;00m parser\n",
      "File \u001b[0;32m~/miniconda3/envs/py39/lib/python3.9/site-packages/pandas/io/parsers/readers.py:1620\u001b[0m, in \u001b[0;36mTextFileReader.__init__\u001b[0;34m(self, f, engine, **kwds)\u001b[0m\n\u001b[1;32m   1617\u001b[0m     \u001b[38;5;28mself\u001b[39m\u001b[38;5;241m.\u001b[39moptions[\u001b[38;5;124m\"\u001b[39m\u001b[38;5;124mhas_index_names\u001b[39m\u001b[38;5;124m\"\u001b[39m] \u001b[38;5;241m=\u001b[39m kwds[\u001b[38;5;124m\"\u001b[39m\u001b[38;5;124mhas_index_names\u001b[39m\u001b[38;5;124m\"\u001b[39m]\n\u001b[1;32m   1619\u001b[0m \u001b[38;5;28mself\u001b[39m\u001b[38;5;241m.\u001b[39mhandles: IOHandles \u001b[38;5;241m|\u001b[39m \u001b[38;5;28;01mNone\u001b[39;00m \u001b[38;5;241m=\u001b[39m \u001b[38;5;28;01mNone\u001b[39;00m\n\u001b[0;32m-> 1620\u001b[0m \u001b[38;5;28mself\u001b[39m\u001b[38;5;241m.\u001b[39m_engine \u001b[38;5;241m=\u001b[39m \u001b[38;5;28;43mself\u001b[39;49m\u001b[38;5;241;43m.\u001b[39;49m\u001b[43m_make_engine\u001b[49m\u001b[43m(\u001b[49m\u001b[43mf\u001b[49m\u001b[43m,\u001b[49m\u001b[43m \u001b[49m\u001b[38;5;28;43mself\u001b[39;49m\u001b[38;5;241;43m.\u001b[39;49m\u001b[43mengine\u001b[49m\u001b[43m)\u001b[49m\n",
      "File \u001b[0;32m~/miniconda3/envs/py39/lib/python3.9/site-packages/pandas/io/parsers/readers.py:1880\u001b[0m, in \u001b[0;36mTextFileReader._make_engine\u001b[0;34m(self, f, engine)\u001b[0m\n\u001b[1;32m   1878\u001b[0m     \u001b[38;5;28;01mif\u001b[39;00m \u001b[38;5;124m\"\u001b[39m\u001b[38;5;124mb\u001b[39m\u001b[38;5;124m\"\u001b[39m \u001b[38;5;129;01mnot\u001b[39;00m \u001b[38;5;129;01min\u001b[39;00m mode:\n\u001b[1;32m   1879\u001b[0m         mode \u001b[38;5;241m+\u001b[39m\u001b[38;5;241m=\u001b[39m \u001b[38;5;124m\"\u001b[39m\u001b[38;5;124mb\u001b[39m\u001b[38;5;124m\"\u001b[39m\n\u001b[0;32m-> 1880\u001b[0m \u001b[38;5;28mself\u001b[39m\u001b[38;5;241m.\u001b[39mhandles \u001b[38;5;241m=\u001b[39m \u001b[43mget_handle\u001b[49m\u001b[43m(\u001b[49m\n\u001b[1;32m   1881\u001b[0m \u001b[43m    \u001b[49m\u001b[43mf\u001b[49m\u001b[43m,\u001b[49m\n\u001b[1;32m   1882\u001b[0m \u001b[43m    \u001b[49m\u001b[43mmode\u001b[49m\u001b[43m,\u001b[49m\n\u001b[1;32m   1883\u001b[0m \u001b[43m    \u001b[49m\u001b[43mencoding\u001b[49m\u001b[38;5;241;43m=\u001b[39;49m\u001b[38;5;28;43mself\u001b[39;49m\u001b[38;5;241;43m.\u001b[39;49m\u001b[43moptions\u001b[49m\u001b[38;5;241;43m.\u001b[39;49m\u001b[43mget\u001b[49m\u001b[43m(\u001b[49m\u001b[38;5;124;43m\"\u001b[39;49m\u001b[38;5;124;43mencoding\u001b[39;49m\u001b[38;5;124;43m\"\u001b[39;49m\u001b[43m,\u001b[49m\u001b[43m \u001b[49m\u001b[38;5;28;43;01mNone\u001b[39;49;00m\u001b[43m)\u001b[49m\u001b[43m,\u001b[49m\n\u001b[1;32m   1884\u001b[0m \u001b[43m    \u001b[49m\u001b[43mcompression\u001b[49m\u001b[38;5;241;43m=\u001b[39;49m\u001b[38;5;28;43mself\u001b[39;49m\u001b[38;5;241;43m.\u001b[39;49m\u001b[43moptions\u001b[49m\u001b[38;5;241;43m.\u001b[39;49m\u001b[43mget\u001b[49m\u001b[43m(\u001b[49m\u001b[38;5;124;43m\"\u001b[39;49m\u001b[38;5;124;43mcompression\u001b[39;49m\u001b[38;5;124;43m\"\u001b[39;49m\u001b[43m,\u001b[49m\u001b[43m \u001b[49m\u001b[38;5;28;43;01mNone\u001b[39;49;00m\u001b[43m)\u001b[49m\u001b[43m,\u001b[49m\n\u001b[1;32m   1885\u001b[0m \u001b[43m    \u001b[49m\u001b[43mmemory_map\u001b[49m\u001b[38;5;241;43m=\u001b[39;49m\u001b[38;5;28;43mself\u001b[39;49m\u001b[38;5;241;43m.\u001b[39;49m\u001b[43moptions\u001b[49m\u001b[38;5;241;43m.\u001b[39;49m\u001b[43mget\u001b[49m\u001b[43m(\u001b[49m\u001b[38;5;124;43m\"\u001b[39;49m\u001b[38;5;124;43mmemory_map\u001b[39;49m\u001b[38;5;124;43m\"\u001b[39;49m\u001b[43m,\u001b[49m\u001b[43m \u001b[49m\u001b[38;5;28;43;01mFalse\u001b[39;49;00m\u001b[43m)\u001b[49m\u001b[43m,\u001b[49m\n\u001b[1;32m   1886\u001b[0m \u001b[43m    \u001b[49m\u001b[43mis_text\u001b[49m\u001b[38;5;241;43m=\u001b[39;49m\u001b[43mis_text\u001b[49m\u001b[43m,\u001b[49m\n\u001b[1;32m   1887\u001b[0m \u001b[43m    \u001b[49m\u001b[43merrors\u001b[49m\u001b[38;5;241;43m=\u001b[39;49m\u001b[38;5;28;43mself\u001b[39;49m\u001b[38;5;241;43m.\u001b[39;49m\u001b[43moptions\u001b[49m\u001b[38;5;241;43m.\u001b[39;49m\u001b[43mget\u001b[49m\u001b[43m(\u001b[49m\u001b[38;5;124;43m\"\u001b[39;49m\u001b[38;5;124;43mencoding_errors\u001b[39;49m\u001b[38;5;124;43m\"\u001b[39;49m\u001b[43m,\u001b[49m\u001b[43m \u001b[49m\u001b[38;5;124;43m\"\u001b[39;49m\u001b[38;5;124;43mstrict\u001b[39;49m\u001b[38;5;124;43m\"\u001b[39;49m\u001b[43m)\u001b[49m\u001b[43m,\u001b[49m\n\u001b[1;32m   1888\u001b[0m \u001b[43m    \u001b[49m\u001b[43mstorage_options\u001b[49m\u001b[38;5;241;43m=\u001b[39;49m\u001b[38;5;28;43mself\u001b[39;49m\u001b[38;5;241;43m.\u001b[39;49m\u001b[43moptions\u001b[49m\u001b[38;5;241;43m.\u001b[39;49m\u001b[43mget\u001b[49m\u001b[43m(\u001b[49m\u001b[38;5;124;43m\"\u001b[39;49m\u001b[38;5;124;43mstorage_options\u001b[39;49m\u001b[38;5;124;43m\"\u001b[39;49m\u001b[43m,\u001b[49m\u001b[43m \u001b[49m\u001b[38;5;28;43;01mNone\u001b[39;49;00m\u001b[43m)\u001b[49m\u001b[43m,\u001b[49m\n\u001b[1;32m   1889\u001b[0m \u001b[43m\u001b[49m\u001b[43m)\u001b[49m\n\u001b[1;32m   1890\u001b[0m \u001b[38;5;28;01massert\u001b[39;00m \u001b[38;5;28mself\u001b[39m\u001b[38;5;241m.\u001b[39mhandles \u001b[38;5;129;01mis\u001b[39;00m \u001b[38;5;129;01mnot\u001b[39;00m \u001b[38;5;28;01mNone\u001b[39;00m\n\u001b[1;32m   1891\u001b[0m f \u001b[38;5;241m=\u001b[39m \u001b[38;5;28mself\u001b[39m\u001b[38;5;241m.\u001b[39mhandles\u001b[38;5;241m.\u001b[39mhandle\n",
      "File \u001b[0;32m~/miniconda3/envs/py39/lib/python3.9/site-packages/pandas/io/common.py:873\u001b[0m, in \u001b[0;36mget_handle\u001b[0;34m(path_or_buf, mode, encoding, compression, memory_map, is_text, errors, storage_options)\u001b[0m\n\u001b[1;32m    868\u001b[0m \u001b[38;5;28;01melif\u001b[39;00m \u001b[38;5;28misinstance\u001b[39m(handle, \u001b[38;5;28mstr\u001b[39m):\n\u001b[1;32m    869\u001b[0m     \u001b[38;5;66;03m# Check whether the filename is to be opened in binary mode.\u001b[39;00m\n\u001b[1;32m    870\u001b[0m     \u001b[38;5;66;03m# Binary mode does not support 'encoding' and 'newline'.\u001b[39;00m\n\u001b[1;32m    871\u001b[0m     \u001b[38;5;28;01mif\u001b[39;00m ioargs\u001b[38;5;241m.\u001b[39mencoding \u001b[38;5;129;01mand\u001b[39;00m \u001b[38;5;124m\"\u001b[39m\u001b[38;5;124mb\u001b[39m\u001b[38;5;124m\"\u001b[39m \u001b[38;5;129;01mnot\u001b[39;00m \u001b[38;5;129;01min\u001b[39;00m ioargs\u001b[38;5;241m.\u001b[39mmode:\n\u001b[1;32m    872\u001b[0m         \u001b[38;5;66;03m# Encoding\u001b[39;00m\n\u001b[0;32m--> 873\u001b[0m         handle \u001b[38;5;241m=\u001b[39m \u001b[38;5;28;43mopen\u001b[39;49m\u001b[43m(\u001b[49m\n\u001b[1;32m    874\u001b[0m \u001b[43m            \u001b[49m\u001b[43mhandle\u001b[49m\u001b[43m,\u001b[49m\n\u001b[1;32m    875\u001b[0m \u001b[43m            \u001b[49m\u001b[43mioargs\u001b[49m\u001b[38;5;241;43m.\u001b[39;49m\u001b[43mmode\u001b[49m\u001b[43m,\u001b[49m\n\u001b[1;32m    876\u001b[0m \u001b[43m            \u001b[49m\u001b[43mencoding\u001b[49m\u001b[38;5;241;43m=\u001b[39;49m\u001b[43mioargs\u001b[49m\u001b[38;5;241;43m.\u001b[39;49m\u001b[43mencoding\u001b[49m\u001b[43m,\u001b[49m\n\u001b[1;32m    877\u001b[0m \u001b[43m            \u001b[49m\u001b[43merrors\u001b[49m\u001b[38;5;241;43m=\u001b[39;49m\u001b[43merrors\u001b[49m\u001b[43m,\u001b[49m\n\u001b[1;32m    878\u001b[0m \u001b[43m            \u001b[49m\u001b[43mnewline\u001b[49m\u001b[38;5;241;43m=\u001b[39;49m\u001b[38;5;124;43m\"\u001b[39;49m\u001b[38;5;124;43m\"\u001b[39;49m\u001b[43m,\u001b[49m\n\u001b[1;32m    879\u001b[0m \u001b[43m        \u001b[49m\u001b[43m)\u001b[49m\n\u001b[1;32m    880\u001b[0m     \u001b[38;5;28;01melse\u001b[39;00m:\n\u001b[1;32m    881\u001b[0m         \u001b[38;5;66;03m# Binary mode\u001b[39;00m\n\u001b[1;32m    882\u001b[0m         handle \u001b[38;5;241m=\u001b[39m \u001b[38;5;28mopen\u001b[39m(handle, ioargs\u001b[38;5;241m.\u001b[39mmode)\n",
      "\u001b[0;31mFileNotFoundError\u001b[0m: [Errno 2] No such file or directory: './IIoTSet//raw/Selected dataset for ML and DL/ML-EdgeIIoT-dataset.csv'"
     ]
    }
   ],
   "source": [
    "df = pd.read_csv(\"%s/raw/Selected dataset for ML and DL/ML-EdgeIIoT-dataset.csv\"%g_data_root,low_memory=False)"
   ]
  },
  {
   "cell_type": "markdown",
   "id": "6c7d33b9-349f-488a-ae78-c51134739f0b",
   "metadata": {},
   "source": [
    "# 查看样本格式"
   ]
  },
  {
   "cell_type": "raw",
   "id": "83668e4d",
   "metadata": {},
   "source": [
    "# df.keys().tolist()"
   ]
  },
  {
   "cell_type": "markdown",
   "id": "c65599bf-638f-468e-b62e-3becb38c2321",
   "metadata": {},
   "source": [
    "# 过滤掉异常数据\n",
    "1. 时间格式错误\n",
    "2. ip地址错误"
   ]
  },
  {
   "cell_type": "code",
   "execution_count": null,
   "id": "9caea65d-90c4-40eb-908c-96ed219da07d",
   "metadata": {},
   "outputs": [],
   "source": [
    "def pre_process(x):\n",
    "    ret = \"ok\"\n",
    "    if not is_valid_time(x['frame.time']):\n",
    "        ret = \"frame.time\"\n",
    "    elif not is_valid_ip(x['ip.src_host']) and not is_valid_ip(x['arp.src.proto_ipv4']):\n",
    "        ret = \"src_host\"\n",
    "    elif not is_valid_ip(x['ip.dst_host']) and not is_valid_ip(x['arp.dst.proto_ipv4']):\n",
    "        ret = \"dst_host\"\n",
    "    return ret\n",
    "    \n",
    "df['flag'] = df.progress_apply(pre_process,axis=1)\n",
    "df = df[df['flag'] == \"ok\"]\n",
    "\n",
    "del df['frame.time']\n",
    "del df['ip.src_host']\n",
    "del df['ip.dst_host']\n",
    "del df['arp.src.proto_ipv4']\n",
    "del df['arp.dst.proto_ipv4']\n",
    "del df['tcp.srcport']\n",
    "del df['tcp.dstport']\n",
    "del df['udp.port']\n",
    "del df['tcp.payload']\n",
    "del df['http.tls_port']\n",
    "del df['http.file_data']\n",
    "del df['icmp.transmit_timestamp']\n",
    "del df['http.request.uri.query']\n",
    "del df['http.referer']\n",
    "del df['http.request.full_uri']\n",
    "del df['http.request.version']\n",
    "del df['tcp.options']\n",
    "del df['dns.qry.name.len']\n",
    "del df['mqtt.msg']\n",
    "\n",
    "one_hot_encoded = pd.get_dummies(df['http.request.method'],prefix='http.request.method')\n",
    "df = pd.concat([df, one_hot_encoded], axis=1)\n",
    "#one_hot_encoded = pd.get_dummies(df['mqtt.conack.flags'],prefix='mqtt.conack.flags')\n",
    "#df = pd.concat([df, one_hot_encoded], axis=1)\n",
    "#one_hot_encoded = pd.get_dummies(df['mqtt.protoname'],prefix='mqtt.protoname')\n",
    "#df = pd.concat([df, one_hot_encoded], axis=1)\n",
    "#one_hot_encoded = pd.get_dummies(df['mqtt.topic'],prefix='mqtt.topic')\n",
    "#df = pd.concat([df, one_hot_encoded], axis=1)\n",
    "\n",
    "del df['http.request.method']\n",
    "del df['mqtt.conack.flags']\n",
    "del df['mqtt.protoname']\n",
    "del df['mqtt.topic']\n",
    "df['Attack_type']=df['Attack_type'].astype(dtype='category')\n",
    "df['Attack_code']=df['Attack_type'].cat.codes"
   ]
  },
  {
   "cell_type": "markdown",
   "id": "23e15b8c-ce04-47c6-b720-ccafd5e79709",
   "metadata": {},
   "source": [
    "# 发现异常特征\n",
    "1. mqtt.conack.flags\n",
    "2. mqtt.protoname\n",
    "3. mqtt.topic"
   ]
  },
  {
   "cell_type": "code",
   "execution_count": null,
   "id": "41e55315-cbb7-4b61-a9fb-afc41ccca283",
   "metadata": {},
   "outputs": [],
   "source": [
    "#mqtt.conack.flags_0',\n",
    "#'mqtt.conack.flags_0.0',\n",
    "#'mqtt.conack.flags_0x00000000'\n",
    "#df_tmp = df[['http.request.method','mqtt.protoname','mqtt.topic','mqtt.conack.flags','Attack_label']]\n",
    "#df_tmp=df_tmp[df_tmp['Attack_label'] == 1]\n",
    "#df_tmp['mqtt.topic'].unique()"
   ]
  },
  {
   "cell_type": "markdown",
   "id": "03e456df-d8c4-4753-b8e7-a37bf86369d6",
   "metadata": {},
   "source": [
    "# 选取base的特征\n",
    "1. 去掉冗余字段\n",
    "2. 设置特征字段和标签字段\n",
    "3. 去掉只有唯一值的特征"
   ]
  },
  {
   "cell_type": "code",
   "execution_count": null,
   "id": "da43638f-f6bc-4d68-aae2-1fa1e6e7f2da",
   "metadata": {},
   "outputs": [],
   "source": [
    "df_base = df.copy(deep=True)\n",
    "del df_base['Attack_type']\n",
    "del df_base['flag']\n",
    "del df_base['Attack_code']\n",
    "\n",
    "#for col in df_base.columns.tolist():\n",
    "#    if col in ['tcp.ack','tcp.flags','tcp.connection.rst','http.request.method_0.0','tcp.ack_raw','http.request.method_0']:\n",
    "#        del df_base[col]\n",
    "        \n",
    "for key in df_base.columns:\n",
    "    if df_base[key].nunique() <= 1:\n",
    "        del df_base[key]\n",
    "        \n",
    "#for key,type in zip(df_base.dtypes.index,df_base.dtypes):\n",
    "#    key = str(key)\n",
    "#    if type == 'bool':\n",
    "#        df_base[key] = df_base[key].astype(int)\n",
    "\n",
    "col_y = \"Attack_label\"\n",
    "col_x = []\n",
    "for col in df_base.columns.tolist():\n",
    "    if not col == col_y:\n",
    "        col_x.append(col)"
   ]
  },
  {
   "cell_type": "raw",
   "id": "39500058",
   "metadata": {},
   "source": [
    "df_base.keys()"
   ]
  },
  {
   "cell_type": "markdown",
   "id": "1504e708-72f7-421c-abb1-2b97b611d19e",
   "metadata": {},
   "source": [
    "# 进行SMOTE采样"
   ]
  },
  {
   "cell_type": "code",
   "execution_count": null,
   "id": "2cbb6af4-61f9-4980-8b9b-c9d920912c4f",
   "metadata": {},
   "outputs": [],
   "source": [
    "#df_tmp = df_base\n",
    "df_tmp = CSHSample.resample_smote(df_base,x_columns=col_x,y_column=col_y) "
   ]
  },
  {
   "cell_type": "markdown",
   "id": "9e49ecda-4f93-45d2-b0c2-827d27679f5b",
   "metadata": {},
   "source": [
    "# 对特征字段进行标准化处理"
   ]
  },
  {
   "cell_type": "code",
   "execution_count": null,
   "id": "2df48498-fb31-4b07-9291-80782dc83587",
   "metadata": {},
   "outputs": [],
   "source": [
    "df_data, scale_columns = CSHDataProcess.get_scale(df_tmp,y_column=col_y)\n",
    "df_raw = df_data.copy(deep = True)"
   ]
  },
  {
   "cell_type": "markdown",
   "id": "3376c60a-5dae-48ef-9f6c-dba7db09bc0e",
   "metadata": {},
   "source": [
    "# 查看信息图"
   ]
  },
  {
   "cell_type": "raw",
   "id": "797ea3da-818a-45fd-b634-ca129eca5ebd",
   "metadata": {},
   "source": [
    "Fea = CSHFeature()\n",
    "Fea.load(df_data,x_columns = col_x, y_column=col_y,is_regression = False)\n",
    "ig = Fea.get_inform_graph(\"AUTO\")\n",
    "ig.plot()"
   ]
  },
  {
   "cell_type": "raw",
   "id": "bece2589-e910-429b-9561-5a9e91488a28",
   "metadata": {},
   "source": [
    "test = df_data['tcp.len']\n",
    "df_tmp = df_data[(df_data['Attack_label'] == 1) & (df_data['tcp.len'] > 0 )]\n",
    "test = df_tmp['tcp.len'] + 1\n",
    "test,l = CSHDataProcess.normal_transform(test)\n",
    "test.hist(bins=200)"
   ]
  },
  {
   "cell_type": "raw",
   "id": "a2110ca4-1702-4889-a25f-a48950b20683",
   "metadata": {},
   "source": [
    "CSHDataDistribution.show_dist(df_data['tcp.ack'])\n",
    "CSHDataDistribution.normal_test(df_data['tcp.ack'])"
   ]
  },
  {
   "cell_type": "markdown",
   "id": "bc299c85-4040-4756-8daa-e42c472be983",
   "metadata": {},
   "source": [
    "# 使用原始特征"
   ]
  },
  {
   "cell_type": "code",
   "execution_count": 6,
   "id": "469f51f3-3a87-4164-8ab9-99c33c72198a",
   "metadata": {},
   "outputs": [
    {
     "ename": "NameError",
     "evalue": "name 'df_raw' is not defined",
     "output_type": "error",
     "traceback": [
      "\u001b[0;31m---------------------------------------------------------------------------\u001b[0m",
      "\u001b[0;31mNameError\u001b[0m                                 Traceback (most recent call last)",
      "Cell \u001b[0;32mIn[6], line 2\u001b[0m\n\u001b[1;32m      1\u001b[0m \u001b[38;5;66;03m#添加噪音的特征有哪些\u001b[39;00m\n\u001b[0;32m----> 2\u001b[0m dtypes_dict \u001b[38;5;241m=\u001b[39m \u001b[43mdf_raw\u001b[49m\u001b[38;5;241m.\u001b[39mdtypes\u001b[38;5;241m.\u001b[39mto_dict()\n\u001b[1;32m      3\u001b[0m noised_columns \u001b[38;5;241m=\u001b[39m []\n\u001b[1;32m      4\u001b[0m \u001b[38;5;28;01mfor\u001b[39;00m f,t \u001b[38;5;129;01min\u001b[39;00m dtypes_dict\u001b[38;5;241m.\u001b[39mitems():\n",
      "\u001b[0;31mNameError\u001b[0m: name 'df_raw' is not defined"
     ]
    }
   ],
   "source": [
    "#添加噪音的特征有哪些\n",
    "dtypes_dict = df_raw.dtypes.to_dict()\n",
    "noised_columns = []\n",
    "for f,t in dtypes_dict.items():\n",
    "    if t in ['int','int64','float','bool']:\n",
    "        if f != col_y:\n",
    "            noised_columns.append(f)\n",
    "print(\"Total noised columns\",len(noised_columns),len(col_x))"
   ]
  },
  {
   "cell_type": "markdown",
   "id": "513b3a62-b970-409f-9945-e549eee9bcba",
   "metadata": {},
   "source": [
    "## 创建数据集"
   ]
  },
  {
   "cell_type": "code",
   "execution_count": 7,
   "id": "da02d12a-38cd-4dc7-b025-3cfe117fb759",
   "metadata": {},
   "outputs": [],
   "source": [
    "def add_noise(df_input,ratio=0.1):\n",
    "    df_data = df_input.copy(deep = True)\n",
    "    for feature in df_data.keys().tolist():\n",
    "        if feature in ['Attack_label']:\n",
    "            continue\n",
    "        dtypes_dict = df_input.dtypes.to_dict()\n",
    "        type = dtypes_dict[feature]\n",
    "        df_data[feature] = CIoTNoise.add_noise(feature,type,df_data,ratio)\n",
    "    return df_data\n",
    "\n",
    "def train_test(df_train,df_test):\n",
    "    model = CSHModelClassify()\n",
    "    model.train(df_train,x_columns=col_x,y_column=col_y,train_ratio = 0)\n",
    "    df_importance = model.importance()\n",
    "    df_result = pd.DataFrame()\n",
    "    for ratio in tqdm([0,0.1,0.2,0.3,0.4,0.5,0.6,0.7,0.8,0.9,1]):\n",
    "        df_test_noised = add_noise(df_test,ratio=ratio)\n",
    "        df_verify_noised = model.evaluate(df_test_noised,x_columns=col_x,y_column=col_y)\n",
    "        df_verify_noised['ratio'] = ratio\n",
    "        df_result = pd.concat([df_result,df_verify_noised],ignore_index=True)\n",
    "    df_result = df_result.reset_index(drop=True)\n",
    "    return df_importance,df_result\n",
    "\n",
    "df_total_importance = pd.DataFrame()\n",
    "df_total_performance= pd.DataFrame()"
   ]
  },
  {
   "cell_type": "markdown",
   "id": "651ee15c-82e6-4bd6-92eb-759db59b1438",
   "metadata": {},
   "source": [
    "## 原始数据"
   ]
  },
  {
   "cell_type": "code",
   "execution_count": 8,
   "id": "c6e7b7f2-fc32-4d64-b752-3f269548c0c6",
   "metadata": {},
   "outputs": [
    {
     "ename": "NameError",
     "evalue": "name 'df_raw' is not defined",
     "output_type": "error",
     "traceback": [
      "\u001b[0;31m---------------------------------------------------------------------------\u001b[0m",
      "\u001b[0;31mNameError\u001b[0m                                 Traceback (most recent call last)",
      "Cell \u001b[0;32mIn[8], line 1\u001b[0m\n\u001b[0;32m----> 1\u001b[0m df_data \u001b[38;5;241m=\u001b[39m \u001b[43mdf_raw\u001b[49m\u001b[38;5;241m.\u001b[39mcopy(deep \u001b[38;5;241m=\u001b[39m \u001b[38;5;28;01mTrue\u001b[39;00m)\n\u001b[1;32m      2\u001b[0m df_train,df_test \u001b[38;5;241m=\u001b[39m CSHSample\u001b[38;5;241m.\u001b[39msplit_dataset(df_data)\n\u001b[1;32m      3\u001b[0m df_importance,df_verify \u001b[38;5;241m=\u001b[39m train_test(df_train,df_test)\n",
      "\u001b[0;31mNameError\u001b[0m: name 'df_raw' is not defined"
     ]
    }
   ],
   "source": [
    "df_data = df_raw.copy(deep = True)\n",
    "df_train,df_test = CSHSample.split_dataset(df_data)\n",
    "df_importance,df_verify = train_test(df_train,df_test)\n",
    "df_importance['kind'] = 'Session'\n",
    "df_verify['kind'] = 'Session'\n",
    "df_total_importance = pd.concat([df_total_importance,df_importance],ignore_index=True).reset_index(drop=True)\n",
    "df_total_performance = pd.concat([df_total_performance,df_verify],ignore_index=True).reset_index(drop=True)"
   ]
  },
  {
   "cell_type": "markdown",
   "id": "f666ecc0-83e8-44d4-916c-38d45fe3236e",
   "metadata": {},
   "source": [
    "## 使用Normal转换后特征"
   ]
  },
  {
   "cell_type": "code",
   "execution_count": null,
   "id": "c217ec05-539d-497a-8a8f-73f2a9af4b17",
   "metadata": {
    "scrolled": true
   },
   "outputs": [],
   "source": [
    "df_data = CSHSample.resample_smote(df_base,x_columns=col_x,y_column=col_y) \n",
    "df_tmp = df_data.copy(deep = True)\n",
    "scale_colums = []\n",
    "for key,type in zip(df_tmp.keys(),df_tmp.dtypes):\n",
    "    if not type in [\"bool\",\"object\",\"category\"] and not key in [col_y]:\n",
    "        scale_colums.append(key)\n",
    "    if df_tmp[key].dtype =='bool':\n",
    "        df_tmp[key] = df_tmp[key].astype(int)\n",
    "for key in scale_colums:\n",
    "    df_tmp[key] = (df_tmp[key]-df_tmp[key].min())/(df_tmp[key].max()-df_tmp[key].min()) + 1\n",
    "    df_tmp[key],l = CSHDataProcess.normal_transform(df_tmp[key])\n",
    "    \n",
    "df_train,df_test = CSHSample.split_dataset(df_tmp)\n",
    "df_importance,df_verify = train_test(df_train,df_test)\n",
    "df_importance['kind'] = 'Session'\n",
    "df_verify['kind'] = 'Session'\n",
    "df_total_importance = pd.concat([df_total_importance,df_importance],ignore_index=True).reset_index(drop=True)\n",
    "df_total_performance = pd.concat([df_total_performance,df_verify],ignore_index=True).reset_index(drop=True)"
   ]
  },
  {
   "cell_type": "markdown",
   "id": "ece25e36-10ff-4c81-8e7d-e4a91162a345",
   "metadata": {},
   "source": [
    "## 只使用4个特征"
   ]
  },
  {
   "cell_type": "code",
   "execution_count": null,
   "id": "c2aefd54-da77-4bd6-8db0-f8252bd70fdf",
   "metadata": {},
   "outputs": [],
   "source": [
    "df_data = CSHSample.resample_smote(df_base,x_columns=col_x,y_column=col_y) \n",
    "df_tmp = df_data.copy(deep = True)\n",
    "scale_colums = []\n",
    "for key,type in zip(df_tmp.keys(),df_tmp.dtypes):\n",
    "    if not type in [\"bool\",\"object\",\"category\"] and not key in [col_y]:\n",
    "        scale_colums.append(key)\n",
    "    if df_tmp[key].dtype =='bool':\n",
    "        df_tmp[key] = df_tmp[key].astype(int)\n",
    "for key in scale_colums:\n",
    "    df_tmp[key] = (df_tmp[key]-df_tmp[key].min())/(df_tmp[key].max()-df_tmp[key].min()) + 1\n",
    "    df_tmp[key],l = CSHDataProcess.normal_transform(df_tmp[key])\n",
    "    \n",
    "col_x = ['tcp.ack','tcp.flags','tcp.connection.rst','http.request.method_0.0']\n",
    "col_y = 'Attack_label'\n",
    "df_tmp = df_data[col_x]\n",
    "df_tmp[col_y] = df_data[col_y]\n",
    "df_train,df_test = CSHSample.split_dataset(df_tmp)\n",
    "df_importance,df_verify = train_test(df_train,df_test)\n",
    "df_importance['kind'] = 'Session'\n",
    "df_verify['kind'] = 'Session'\n",
    "df_total_importance = pd.concat([df_total_importance,df_importance],ignore_index=True).reset_index(drop=True)\n",
    "df_total_performance = pd.concat([df_total_performance,df_verify],ignore_index=True).reset_index(drop=True)"
   ]
  },
  {
   "cell_type": "code",
   "execution_count": 12,
   "id": "c717b944-20dd-4bae-b335-00b9b22a9098",
   "metadata": {},
   "outputs": [],
   "source": [
    "df_total_importance.to_csv(\"./IIoTSet/result/ML-performance/task-1/importance.csv\")\n",
    "df_total_performance.to_csv(\"./IIoTSet/result/ML-performance/task-1/performance.csv\")"
   ]
  },
  {
   "cell_type": "code",
   "execution_count": null,
   "id": "43aa0804-eae4-4c87-99c9-ff8e3348ef21",
   "metadata": {},
   "outputs": [],
   "source": []
  }
 ],
 "metadata": {
  "kernelspec": {
   "display_name": "Python 3 (ipykernel)",
   "language": "python",
   "name": "python3"
  },
  "language_info": {
   "codemirror_mode": {
    "name": "ipython",
    "version": 3
   },
   "file_extension": ".py",
   "mimetype": "text/x-python",
   "name": "python",
   "nbconvert_exporter": "python",
   "pygments_lexer": "ipython3",
   "version": "3.9.19"
  }
 },
 "nbformat": 4,
 "nbformat_minor": 5
}
