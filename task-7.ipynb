{
 "cells": [
  {
   "cell_type": "markdown",
   "id": "b32a1e96-89de-4c0f-8626-a1d8334cf9f7",
   "metadata": {},
   "source": [
    "# Task 7 : 训练模型"
   ]
  },
  {
   "cell_type": "code",
   "execution_count": 1,
   "id": "730523a4-8eec-4a14-ab22-b9cb21b12fea",
   "metadata": {},
   "outputs": [],
   "source": [
    "import os,json,sys,logging\n",
    "sys.path.append(\"./share\")\n",
    "sys.path.append(\"./common\")\n",
    "import pandas as pd\n",
    "import json\n",
    "import numpy as np\n",
    "from tqdm.notebook import tqdm\n",
    "from IoTCommon import CIoTCommon\n",
    "from SHDataProcess import CSHDataProcess\n",
    "from IoTSample import CIoTSample\n",
    "from Config import g_data_root\n",
    "from SHModelClassify import CSHModelClassify\n",
    "from IoTToken import CIoTCommonSample\n",
    "from IoTNoise import CIoTNoise\n",
    "from SHEvaluation import CSHROC,CSHEvaluate\n",
    "from IoTNoise import CIoTNoise\n",
    "from IoTModel import CIoTModel\n",
    "import warnings\n",
    "import h2o\n",
    "warnings.simplefilter(\"ignore\")\n",
    "g_sample_root = \"%ssample\"%g_data_root\n",
    "g_fixed_root = \"%sfixed\"%g_data_root\n",
    "\n",
    "np.random.seed(42)\n",
    "h2o.init(nthreads = -1, verbose=False)"
   ]
  },
  {
   "cell_type": "code",
   "execution_count": 2,
   "id": "8580b505-3d22-40af-9665-345fd7b57233",
   "metadata": {},
   "outputs": [],
   "source": [
    "ioTSample = CIoTSample()"
   ]
  },
  {
   "cell_type": "markdown",
   "id": "f8081fde-667a-4f42-a91d-275579ec3d04",
   "metadata": {},
   "source": [
    "# 使用原始标签训练模型"
   ]
  },
  {
   "cell_type": "markdown",
   "id": "e8ce76e9-86d4-44fe-aabd-38ba1558566c",
   "metadata": {},
   "source": [
    "## 训练模型，并进行对单个分类器进行评估"
   ]
  },
  {
   "cell_type": "code",
   "execution_count": 3,
   "id": "b117a0c1-88eb-4b5e-adac-9cadc7831f2a",
   "metadata": {},
   "outputs": [],
   "source": [
    "def do_signle_train_test(attack,protocol):\n",
    "    model = CIoTModel(attack,protocol)\n",
    "    if not model.load_sample(maxCount = 20000 , noise_ratio = 0.1 , n_class = 0,num_samples = 5000):\n",
    "        print(\"No Sample\",attack,protocol)\n",
    "        return pd.DataFrame(),pd.DataFrame(),pd.DataFrame(),pd.DataFrame(),None\n",
    " \n",
    "    df_importance = model.train()\n",
    "    sample_uuid,df_test,df_noised = model.get_test()\n",
    "\n",
    "    df_verify1 = model.test(df_test)\n",
    "    df_verify2 = model.test(df_noised)\n",
    "\n",
    "    train_sample_true = model.m_train[model.m_train==1].shape[0]\n",
    "    train_sample_false = model.m_train[model.m_train==0].shape[0]\n",
    "    test_sample_true = model.m_test[model.m_test==1].shape[0]\n",
    "    test_sample_false = model.m_test[model.m_test==0].shape[0]\n",
    "    \n",
    "    df_model = pd.DataFrame({\"attack\":attack,\"protocol\":protocol,\"feature\":model.m_col_x})\n",
    "    df_model['train_sample_true'] = train_sample_true\n",
    "    df_model['train_sample_false'] = train_sample_false\n",
    "    df_model['test_sample_true'] = test_sample_true\n",
    "    df_model['test_sample_false'] = test_sample_false\n",
    "    \n",
    "    df_importance['attack'] = attack\n",
    "    df_importance['protocol'] = protocol\n",
    "    \n",
    "    df_verify1['attack'] = attack\n",
    "    df_verify1['protocol'] = protocol\n",
    "    df_verify2['attack'] = attack\n",
    "    df_verify2['protocol'] = protocol\n",
    "    \n",
    "    return df_model,df_importance,df_verify1,df_verify2,model.m_model"
   ]
  },
  {
   "cell_type": "raw",
   "id": "e20326b5-f0e2-455e-b21a-377b9e00b09b",
   "metadata": {},
   "source": [
    "result_path = \"%s/result/\"%g_data_root\n",
    "for attack in ioTSample.get_attack_type():\n",
    "    #if not attack in [\"XSS attacks\",\"DDoS HTTP Flood Attacks\",\"Uploading attack\"]:\n",
    "    #    continue\n",
    "    model_path = \"%s%s\"%(result_path,attack)\n",
    "    df_all_model = pd.DataFrame()\n",
    "    df_all_importance = pd.DataFrame()\n",
    "    df_all_verify = pd.DataFrame()\n",
    "    for protocol in ioTSample.get_attack_protocol(attack):\n",
    "        try:\n",
    "            df_model,df_importance,df_verify1,df_verify2,model = do_signle_train_test(attack,protocol)\n",
    "        except:\n",
    "            logging.exception(\"failed %s,%s\",attack,protocol)\n",
    "            continue\n",
    "        model_file_path = \"%s/%s/models-single\"%(model_path,protocol.replace(\":\",\"-\"))\n",
    "        if df_model.shape[0] > 0 :\n",
    "            df_all_model = pd.concat([df_all_model,df_model],ignore_index=True)\n",
    "            df_all_importance = pd.concat([df_all_importance,df_importance],ignore_index=True)\n",
    "            df_verify1['verify_type']='test'\n",
    "            df_verify2['verify_type']='noised'\n",
    "            df_all_verify = pd.concat([df_all_verify,df_verify1],ignore_index=True)\n",
    "            df_all_verify = pd.concat([df_all_verify,df_verify2],ignore_index=True)\n",
    "            os.makedirs(model_file_path,exist_ok = True)\n",
    "            model.save(model_file_path)\n",
    "            \n",
    "    df_all_model = df_all_model.reset_index(drop = True)\n",
    "    df_all_importance = df_all_importance.reset_index(drop = True)\n",
    "    df_all_verify = df_all_verify.reset_index(drop = True)\n",
    "    \n",
    "    os.makedirs(model_path,exist_ok = True)\n",
    "    df_all_model.to_csv(\"%s/single_model.csv\"%model_path)\n",
    "    df_all_importance.to_csv(\"%s/single_importance.csv\"%model_path)\n",
    "    df_all_verify.to_csv(\"%s/single_verify.csv\"%model_path)"
   ]
  },
  {
   "cell_type": "markdown",
   "id": "f1d77af4-3de7-47df-862a-af8be95d1f0b",
   "metadata": {},
   "source": [
    "## 组合分类器评估"
   ]
  },
  {
   "cell_type": "code",
   "execution_count": 4,
   "id": "aa78abf4-e369-4b48-8010-6e672c36a6bc",
   "metadata": {},
   "outputs": [],
   "source": [
    "def get_combined_predict(attack):\n",
    "    result_path = \"%s/result/\"%g_data_root\n",
    "    model_path = \"%s%s\"%(result_path,attack)\n",
    "    df_index = pd.read_csv(\"%s/single_model.csv\"%(model_path),index_col=0)\n",
    "    df_predict = pd.DataFrame()\n",
    "    for protocol in df_index['protocol'].unique().tolist():        \n",
    "        sample = CIoTModel(attack,protocol)\n",
    "        if not sample.load_sample(maxCount = 20000 , noise_ratio = 0.1 , n_class = 0,num_samples = 5000):\n",
    "            print(\"No Sample\",attack,protocol)\n",
    "            continue\n",
    "        \n",
    "        model_file_path = \"%s/%s/models-single/\"%(model_path,protocol.replace(\":\",\"-\"))\n",
    "        model = CSHModelClassify()\n",
    "        model.load(model_file_path)\n",
    "\n",
    "        col_x,col_y = sample.get_col_x_y()\n",
    "        sample_uuid,df_test,df_noised = sample.get_test()\n",
    "\n",
    "        df_test_pred = model.predict(df_test,x_columns = col_x,y_column=col_y)\n",
    "        df_noised_pred = model.predict(df_noised,x_columns = col_x,y_column=col_y)\n",
    "        \n",
    "        for model_name in list(model.m_models.keys()):\n",
    "            df_tmp = df_test_pred[df_test_pred['model']==model_name].reset_index(drop=True)\n",
    "            df_tmp['uuid'] = sample_uuid\n",
    "            df_tmp['type'] = 'test'\n",
    "            df_tmp['protocol'] = protocol\n",
    "            df_predict = pd.concat([df_predict,df_tmp],ignore_index=True)\n",
    "\n",
    "            df_tmp = df_noised_pred[df_noised_pred['model']==model_name].reset_index(drop=True)\n",
    "            df_tmp['uuid'] = sample_uuid\n",
    "            df_tmp['type'] = 'noised'\n",
    "            df_tmp['protocol'] = protocol\n",
    "            df_predict = pd.concat([df_predict,df_tmp],ignore_index=True)\n",
    "            \n",
    "    df_predict = df_predict.reset_index(drop = True)\n",
    "    \n",
    "    all_data = []\n",
    "    for item,df_tmp in tqdm(df_predict.groupby([\"type\",\"uuid\",\"model\"])):\n",
    "        type, uuid, model_name= item[0],item[1],item[2]\n",
    "        if df_tmp['true'].nunique() > 1:\n",
    "            print(\"Grand True count > 1\",type,uuid,model)\n",
    "            display(df_tmp)\n",
    "            continue\n",
    "        tmp = {}\n",
    "        tmp['type'] = type\n",
    "        tmp['uuid'] = uuid\n",
    "        tmp['model'] = model_name\n",
    "        tmp['true'] = df_tmp.iloc[0]['true']\n",
    "        tmp['one'] = 0\n",
    "        tmp['zero'] = 0\n",
    "        for protocol,df_tmp1 in df_tmp.groupby(\"protocol\"):\n",
    "            predict = df_tmp1.iloc[0]['predict']\n",
    "            tmp[protocol] = predict\n",
    "            tmp['zero'] = tmp['zero'] + 1 if predict == 0 else tmp['zero']\n",
    "            tmp['one'] = tmp['one'] + 1 if predict == 1 else tmp['one']   \n",
    "            \n",
    "        tmp['predict'] = 1 if tmp['one'] >= tmp['zero'] else 0\n",
    "        \n",
    "        all_data.append(tmp.copy())\n",
    "        \n",
    "    df_result = pd.DataFrame(all_data)\n",
    "    \n",
    "    return df_result,df_predict"
   ]
  },
  {
   "cell_type": "code",
   "execution_count": 5,
   "id": "c9ddf061-adfd-43aa-9591-c40f650b5fd9",
   "metadata": {},
   "outputs": [],
   "source": [
    "def do_combined_test(attack):\n",
    "    df_result,df_predict = get_combined_predict(attack)\n",
    "    df_summary = pd.DataFrame()\n",
    "    for item,df_tmp in df_result.groupby([\"model\",\"type\"]):\n",
    "        df_t = CSHEvaluate.evaluate(df_tmp['true'],df_tmp['predict'])\n",
    "        df_t['model'] = item[0]\n",
    "        df_t['type'] = item[1]\n",
    "        df_summary = pd.concat([df_summary,df_t],ignore_index=True)\n",
    "    df_summary = df_summary.reset_index(drop=True)\n",
    "    result_path = \"%s/result/\"%g_data_root\n",
    "    model_path = \"%s%s\"%(result_path,attack)\n",
    "    os.makedirs(model_path,exist_ok = True)\n",
    "    df_predict.to_csv(\"%s/combined_predict.csv\"%model_path)\n",
    "    df_result.to_csv(\"%s/combined_result.csv\"%model_path)\n",
    "    df_summary.to_csv(\"%s/combined_summary.csv\"%model_path)"
   ]
  },
  {
   "cell_type": "raw",
   "id": "d78bc2d3-4d68-468a-9a0a-6c76703358e6",
   "metadata": {},
   "source": [
    "for attack in ioTSample.get_attack_type():\n",
    "    print(attack)\n",
    "    do_combined_test(attack)"
   ]
  }
 ],
 "metadata": {
  "kernelspec": {
   "display_name": "Python 3 (ipykernel)",
   "language": "python",
   "name": "python3"
  },
  "language_info": {
   "codemirror_mode": {
    "name": "ipython",
    "version": 3
   },
   "file_extension": ".py",
   "mimetype": "text/x-python",
   "name": "python",
   "nbconvert_exporter": "python",
   "pygments_lexer": "ipython3",
   "version": "3.9.19"
  }
 },
 "nbformat": 4,
 "nbformat_minor": 5
}
