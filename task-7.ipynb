{
 "cells": [
  {
   "cell_type": "markdown",
   "id": "51403e79-0762-4413-9f1a-8a9faa045fb8",
   "metadata": {},
   "source": [
    "# Task 6 : 评估攻击识别的效果（多分类）\n",
    "实验结果下载地址：https://huggingface.co/datasets/JimXie/IIoTset/resolve/main/performance.tar.gz"
   ]
  },
  {
   "cell_type": "code",
   "execution_count": 1,
   "id": "6d478b62-528d-410b-b932-2b99603be86d",
   "metadata": {},
   "outputs": [],
   "source": [
    "import os,json,sys,logging\n",
    "sys.path.append(\"./share\")\n",
    "sys.path.append(\"./common\")\n",
    "import pandas as pd\n",
    "import json\n",
    "from tqdm.notebook import tqdm\n",
    "from SHSample import CSHSample\n",
    "from SHDataProcess import CSHDataProcess\n",
    "from SHFeatureSelect import CSHFeature\n",
    "from SHDataEDA import CSHDataDistribution,CSHDataTest\n",
    "from SHEvaluation import CSHEvaluate\n",
    "from IoTMLEvaluate import CIoTAttack\n",
    "import warnings\n",
    "import numpy as np\n",
    "import seaborn as sns\n",
    "import matplotlib.pyplot as plt\n",
    "from Config import g_data_root\n",
    "from datetime import datetime\n",
    "warnings.simplefilter(\"ignore\")\n",
    "pd.set_option('display.max_rows', 500)\n",
    "g_token_root = \"%stoken/\"%g_data_root\n",
    "g_feature_root = \"%s/features\"%g_data_root\n",
    "g_result_root = \"%sresult\"%g_data_root\n"
   ]
  },
  {
   "cell_type": "code",
   "execution_count": 2,
   "id": "3076ae15-320b-4c72-8d2b-c4e3e3250cf5",
   "metadata": {},
   "outputs": [],
   "source": [
    "def show_bar(df_tmp):\n",
    "    fig, axes = plt.subplots(1, 1, figsize=(9, 4))\n",
    "    sns.barplot(x='accuracy', y='attack',hue='kind',orient='h',ci=None,data=df_tmp,ax=axes)\n",
    "    axes.set_title(\"Accuracy\")\n",
    "    axes.set_xlabel('Accuracy', fontsize=10)\n",
    "    axes.set_ylabel('Attack', fontsize=10)\n",
    "    axes.legend(loc='upper center', bbox_to_anchor=(0.5, -0.15), ncol=2)\n",
    "    #axes.set_xticklabels(axes.get_xticklabels(), rotation=20)\n",
    "    plt.tight_layout()\n",
    "    plt.show()\n",
    "    \n",
    "def show_line(df_tmp):\n",
    "    fig, axes = plt.subplots(1, 1, figsize=(9, 4))\n",
    "    sns.lineplot(x='ratio', y='accuracy',hue='kind',ci=None,data=df_tmp,ax=axes)\n",
    "    axes.set_title(\"Accuracy\")\n",
    "    axes.set_xlabel('Noise ratio', fontsize=10)\n",
    "    axes.set_ylabel('Accuracy', fontsize=10)\n",
    "    axes.legend(loc='upper center', bbox_to_anchor=(0.5, -0.15), ncol=2)\n",
    "    \n",
    "    plt.tight_layout()\n",
    "    plt.show()"
   ]
  },
  {
   "cell_type": "markdown",
   "id": "5cdec45a-e5bd-4e99-aa31-5c72160c0281",
   "metadata": {},
   "source": [
    "# 读取实验数据"
   ]
  },
  {
   "cell_type": "code",
   "execution_count": 3,
   "id": "20072e94-f09b-4850-af03-76d4e6b203fe",
   "metadata": {},
   "outputs": [],
   "source": [
    "df_score = pd.read_csv(\"./IIoTSet/result/模型输出频谱.csv\")\n",
    "df_distance = pd.read_csv(\"./IIoTSet/result/相似度.csv\",index_col=0)"
   ]
  },
  {
   "cell_type": "markdown",
   "id": "540ec9d8-21c4-46cc-af3a-bbce72c3acfc",
   "metadata": {},
   "source": [
    "# 使用Cosine距离度量相似度"
   ]
  },
  {
   "cell_type": "code",
   "execution_count": null,
   "id": "f834b003-b45c-4554-8c8d-9315f5688bc7",
   "metadata": {},
   "outputs": [
    {
     "name": "stderr",
     "output_type": "stream",
     "text": [
      "100%|████████████████████████████████████████████████████████████████████████████████████████████████████████████| 92400/92400 [00:50<00:00, 1813.56it/s]\n"
     ]
    }
   ],
   "source": [
    "df_attack = CIoTAttack(df_score).get_attack(df_distance,\"Cosine\")\n",
    "df_result = CIoTAttack(df_score).get_accuracy(df_attack)\n",
    "if 'score' in df_result['kind']:\n",
    "    df_result['kind']=df_result['kind'].map({\"score\":\"SSPE\",\"sum\":\"COAP\"})"
   ]
  },
  {
   "cell_type": "code",
   "execution_count": null,
   "id": "38388743-1cb1-4aa6-b0ed-f0d498b3f0a8",
   "metadata": {},
   "outputs": [],
   "source": [
    "show_line(df_result)\n",
    "df_tmp = df_result[['kind','ratio','attack','accuracy']].groupby([\"kind\",'attack']).mean().reset_index()\n",
    "show_bar(df_tmp)\n",
    "df_tmp = df_result[['kind','ratio','model','accuracy']].groupby([\"kind\",'model']).mean().reset_index()\n",
    "show_bar(df_tmp)"
   ]
  },
  {
   "cell_type": "markdown",
   "id": "63fec14e-2148-4f2e-954e-b8ac709da04d",
   "metadata": {},
   "source": [
    "# 使用多种距离度量相似度"
   ]
  },
  {
   "cell_type": "code",
   "execution_count": null,
   "id": "2949d1ed-b8ad-46d2-809e-2b662452afbf",
   "metadata": {},
   "outputs": [],
   "source": [
    "df_measure = pd.DataFrame()\n",
    "for measure in ['Cosine','Pearson','Euclidean','EMD','Manhattan']:\n",
    "    df_attack = CIoTAttack(df_score).get_attack(df_distance,measure)\n",
    "    df_tmp = CIoTAttack(df_score).get_accuracy(df_attack)\n",
    "    df_tmp['measure'] = measure\n",
    "    df_measure = pd.concat([df_measure,df_tmp],ignore_index=True)\n",
    "df_measure = df_measure.reset_index(drop=True) "
   ]
  },
  {
   "cell_type": "code",
   "execution_count": null,
   "id": "ae7ac61a-6f47-4bd5-ae63-7840c7250fe6",
   "metadata": {},
   "outputs": [],
   "source": [
    "df_tmp = df_measure.copy(deep=True)\n",
    "df_tmp['kind']=df_tmp['kind'].map({\"score\":\"SSPE\",\"sum\":\"COAP\"})\n",
    "\n",
    "show_line(df_tmp)\n",
    "show_bar(df_tmp)\n",
    "\n",
    "df_tmp[['measure','kind','accuracy']].groupby(['measure',\"kind\"]).mean()"
   ]
  },
  {
   "cell_type": "code",
   "execution_count": null,
   "id": "a44ace1a-c533-4eb1-a30f-e1cf0bbd3723",
   "metadata": {},
   "outputs": [],
   "source": []
  },
  {
   "cell_type": "code",
   "execution_count": null,
   "id": "aa881ae8-a5d3-4640-8b56-cc884f33256d",
   "metadata": {},
   "outputs": [],
   "source": []
  },
  {
   "cell_type": "code",
   "execution_count": null,
   "id": "06eb282b-abcd-427c-8a25-48ebbf4bad77",
   "metadata": {},
   "outputs": [],
   "source": []
  },
  {
   "cell_type": "code",
   "execution_count": null,
   "id": "00b79c7e-fee6-40d5-a133-78bc751c9646",
   "metadata": {},
   "outputs": [],
   "source": []
  },
  {
   "cell_type": "code",
   "execution_count": null,
   "id": "ab30a9a9-a83f-42cd-9f85-d71dbfcda8ae",
   "metadata": {},
   "outputs": [],
   "source": []
  }
 ],
 "metadata": {
  "kernelspec": {
   "display_name": "Python 3 (ipykernel)",
   "language": "python",
   "name": "python3"
  },
  "language_info": {
   "codemirror_mode": {
    "name": "ipython",
    "version": 3
   },
   "file_extension": ".py",
   "mimetype": "text/x-python",
   "name": "python",
   "nbconvert_exporter": "python",
   "pygments_lexer": "ipython3",
   "version": "3.9.18"
  }
 },
 "nbformat": 4,
 "nbformat_minor": 5
}
