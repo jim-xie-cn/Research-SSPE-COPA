{
 "cells": [
  {
   "cell_type": "markdown",
   "id": "b32a1e96-89de-4c0f-8626-a1d8334cf9f7",
   "metadata": {},
   "source": [
    "# Task 7 : 训练模型"
   ]
  },
  {
   "cell_type": "code",
   "execution_count": 7,
   "id": "730523a4-8eec-4a14-ab22-b9cb21b12fea",
   "metadata": {},
   "outputs": [],
   "source": [
    "import os,json,sys,logging\n",
    "sys.path.append(\"./share\")\n",
    "sys.path.append(\"./common\")\n",
    "import pandas as pd\n",
    "import json\n",
    "from tqdm import tqdm\n",
    "from IoTCommon import CIoTCommon\n",
    "from IoTTotalFeature import CIoTTotalFeature\n",
    "from IoTSample import CIoTSample\n",
    "from SHSample import CSHSample\n",
    "from SHDataProcess import CSHDataProcess\n",
    "from SHFeatureSelect import CSHFeature\n",
    "from Config import g_data_root\n",
    "from SHDataEDA import CSHDataDistribution,CSHDataTest\n",
    "from SHModelClassify import CSHModelClassify\n",
    "from SHEvaluation import CSHROC\n",
    "import warnings\n",
    "import h2o\n",
    "warnings.simplefilter(\"ignore\")\n",
    "g_sample_root = \"%ssample\"%g_data_root\n",
    "h2o.no_progress()\n",
    "logging.getLogger('h2o').setLevel(logging.ERROR)\n",
    "h2o.init(nthreads = -1, verbose=False)"
   ]
  },
  {
   "cell_type": "code",
   "execution_count": 8,
   "id": "c8617fce-c22c-4a4b-bf95-b181f1db3617",
   "metadata": {},
   "outputs": [],
   "source": [
    "ioTSample = CIoTSample()"
   ]
  },
  {
   "cell_type": "code",
   "execution_count": null,
   "id": "15a83134-0a16-496c-abbc-1424990eaa46",
   "metadata": {},
   "outputs": [
    {
     "name": "stdout",
     "output_type": "stream",
     "text": [
      "No Normal sample found trafficType='Flame_Sensor',protocol='eth:ethertype:arp'\n",
      "begin train  dt\n",
      "end train  dt\n",
      "begin train  svm\n",
      "end train  svm\n",
      "begin train  rf\n",
      "end train  rf\n",
      "begin train  ann\n",
      "end train  ann\n",
      "begin train  knn\n",
      "end train  knn\n",
      "begin train  bayes\n",
      "end train  bayes\n",
      "begin train  glm\n",
      "end train  glm\n",
      "begin train  gbm\n",
      "end train  gbm\n",
      "begin train  xgboost\n",
      "end train  xgboost\n",
      "Warning: This model doesn't have variable importances\n",
      "Warning: This model doesn't have variable importances\n",
      "Warning: This model doesn't have variable importances\n",
      "No Normal sample found trafficType='Distance',protocol='eth:ethertype:ip:tcp:data'\n",
      "No Normal sample found trafficType='Flame_Sensor',protocol='eth:ethertype:ip:tcp:data'\n",
      "No Normal sample found trafficType='Heart_Rate',protocol='eth:ethertype:ip:tcp:data'\n",
      "No Normal sample found trafficType='IR_Receiver',protocol='eth:ethertype:ip:tcp:data'\n",
      "No Normal sample found trafficType='Modbus',protocol='eth:ethertype:ip:tcp:data'\n",
      "No Normal sample found trafficType='phValue',protocol='eth:ethertype:ip:tcp:data'\n",
      "No Normal sample found trafficType='Soil_Moisture',protocol='eth:ethertype:ip:tcp:data'\n",
      "No Normal sample found trafficType='Sound_Sensor',protocol='eth:ethertype:ip:tcp:data'\n",
      "No Normal sample found trafficType='Temperature_and_Humidity',protocol='eth:ethertype:ip:tcp:data'\n",
      "No Normal sample found trafficType='Water_Level',protocol='eth:ethertype:ip:tcp:data'\n",
      "Less Label category ( class < 2 )\n",
      "No Sample Ransomware attack eth:ethertype:ip:tcp:data\n"
     ]
    }
   ],
   "source": [
    "result_path = \"%s/result/\"%g_data_root\n",
    "for attack in ioTSample.get_attack_type():\n",
    "    if not attack in ['Ransomware attack','SQL injection attack','Uploading attack','Vulnerability scanner attack','XSS attacks']:\n",
    "        continue\n",
    "    df_all_model = pd.DataFrame()\n",
    "    df_all_importance = pd.DataFrame()\n",
    "    df_all_verify = pd.DataFrame()\n",
    "    for protocol in ioTSample.get_attack_protocol(attack):\n",
    "        df_model,df_importance,df_verify = do_train_test(attack,protocol)\n",
    "        if df_model.shape[0] > 0 :\n",
    "            df_all_model = pd.concat([df_all_model,df_model],ignore_index=True)\n",
    "            df_all_importance = pd.concat([df_all_importance,df_importance],ignore_index=True)\n",
    "            df_all_verify = pd.concat([df_all_verify,df_verify],ignore_index=True)\n",
    "\n",
    "    df_all_model = df_all_model.reset_index(drop = True)\n",
    "    df_all_importance = df_all_importance.reset_index(drop = True)\n",
    "    df_all_verify = df_all_verify.reset_index(drop = True)\n",
    "    \n",
    "    model_path = \"%s%s\"%(result_path,attack)\n",
    "    os.makedirs(model_path,exist_ok = True)\n",
    "    df_all_model.to_csv(\"%s/model.csv\"%model_path)\n",
    "    df_all_importance.to_csv(\"%s/importance.csv\"%model_path)\n",
    "    df_all_verify.to_csv(\"%s/verify.csv\"%model_path)"
   ]
  },
  {
   "cell_type": "code",
   "execution_count": null,
   "id": "ba06a67e-60b1-44c0-bd80-bea23abcbda3",
   "metadata": {},
   "outputs": [],
   "source": []
  }
 ],
 "metadata": {
  "kernelspec": {
   "display_name": "Python 3 (ipykernel)",
   "language": "python",
   "name": "python3"
  },
  "language_info": {
   "codemirror_mode": {
    "name": "ipython",
    "version": 3
   },
   "file_extension": ".py",
   "mimetype": "text/x-python",
   "name": "python",
   "nbconvert_exporter": "python",
   "pygments_lexer": "ipython3",
   "version": "3.8.13"
  }
 },
 "nbformat": 4,
 "nbformat_minor": 5
}
